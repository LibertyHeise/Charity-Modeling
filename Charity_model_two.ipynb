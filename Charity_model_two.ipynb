{
  "cells": [
    {
      "cell_type": "markdown",
      "metadata": {
        "id": "view-in-github",
        "colab_type": "text"
      },
      "source": [
        "<a href=\"https://colab.research.google.com/github/LibertyHeise/deep-learning-challenge/blob/main/Charity_model_two.ipynb\" target=\"_parent\"><img src=\"https://colab.research.google.com/assets/colab-badge.svg\" alt=\"Open In Colab\"/></a>"
      ]
    },
    {
      "cell_type": "markdown",
      "metadata": {
        "id": "-0ZDASRkqvK5"
      },
      "source": [
        "Preprocessing"
      ]
    },
    {
      "cell_type": "code",
      "execution_count": null,
      "metadata": {
        "id": "p9oQhwYRQWfD"
      },
      "outputs": [],
      "source": [
        "# Import our dependencies\n",
        "from sklearn.model_selection import train_test_split\n",
        "from sklearn.preprocessing import StandardScaler\n",
        "import pandas as pd\n",
        "import tensorflow as tf\n",
        "import matplotlib as plt\n",
        "import sklearn as skl\n",
        "import tensorflow as tf"
      ]
    },
    {
      "cell_type": "code",
      "execution_count": null,
      "metadata": {
        "colab": {
          "base_uri": "https://localhost:8080/"
        },
        "id": "wR1ThAMnq0NR",
        "outputId": "48c5d6cb-dfc9-4950-bbd4-c4ec107c0c00"
      },
      "outputs": [
        {
          "name": "stdout",
          "output_type": "stream",
          "text": [
            "Drive already mounted at /content/drive; to attempt to forcibly remount, call drive.mount(\"/content/drive\", force_remount=True).\n"
          ]
        }
      ],
      "source": [
        "from google.colab import drive\n",
        "drive.mount('/content/drive')\n",
        "\n",
        "application_df = pd.read_csv(\"/content/drive/MyDrive/ChariltyProj/charity_data.csv\")"
      ]
    },
    {
      "cell_type": "code",
      "execution_count": null,
      "metadata": {
        "id": "K8_HLXOkQWfF"
      },
      "outputs": [],
      "source": [
        "# Drop the non-beneficial ID columns, 'EIN' and 'NAME'.\n",
        "clean_df = application_df.drop(columns=['EIN','NAME'])\n",
        "\n"
      ]
    },
    {
      "cell_type": "code",
      "execution_count": null,
      "metadata": {
        "colab": {
          "base_uri": "https://localhost:8080/"
        },
        "id": "cTRg1NnmQWfF",
        "outputId": "d66ce0a9-8c0d-4f7c-c368-33d2001fc511"
      },
      "outputs": [
        {
          "name": "stdout",
          "output_type": "stream",
          "text": [
            "APPLICATION_TYPE          0\n",
            "AFFILIATION               0\n",
            "CLASSIFICATION            0\n",
            "USE_CASE                  0\n",
            "ORGANIZATION              0\n",
            "STATUS                    0\n",
            "INCOME_AMT                0\n",
            "SPECIAL_CONSIDERATIONS    0\n",
            "ASK_AMT                   0\n",
            "IS_SUCCESSFUL             0\n",
            "dtype: int64\n"
          ]
        },
        {
          "data": {
            "text/plain": [
              "APPLICATION_TYPE            17\n",
              "AFFILIATION                  6\n",
              "CLASSIFICATION              71\n",
              "USE_CASE                     5\n",
              "ORGANIZATION                 4\n",
              "STATUS                       2\n",
              "INCOME_AMT                   9\n",
              "SPECIAL_CONSIDERATIONS       2\n",
              "ASK_AMT                   8747\n",
              "IS_SUCCESSFUL                2\n",
              "dtype: int64"
            ]
          },
          "execution_count": 27,
          "metadata": {},
          "output_type": "execute_result"
        }
      ],
      "source": [
        "# Determine the number of unique values in each column.\n",
        "print(clean_df.isnull().sum())\n",
        "clean_df.nunique()"
      ]
    },
    {
      "cell_type": "code",
      "execution_count": null,
      "metadata": {
        "colab": {
          "base_uri": "https://localhost:8080/"
        },
        "id": "19r2uwSpQWfG",
        "outputId": "59d51b54-5109-4ea0-a482-0912e2a45e3e"
      },
      "outputs": [
        {
          "data": {
            "text/plain": [
              "Index(['APPLICATION_TYPE', 'AFFILIATION', 'CLASSIFICATION', 'USE_CASE',\n",
              "       'ORGANIZATION', 'STATUS', 'INCOME_AMT', 'SPECIAL_CONSIDERATIONS',\n",
              "       'ASK_AMT', 'IS_SUCCESSFUL'],\n",
              "      dtype='object')"
            ]
          },
          "execution_count": 28,
          "metadata": {},
          "output_type": "execute_result"
        }
      ],
      "source": [
        "clean_df.columns"
      ]
    },
    {
      "cell_type": "code",
      "execution_count": null,
      "metadata": {
        "colab": {
          "base_uri": "https://localhost:8080/"
        },
        "id": "lEsa5ZS4QWfG",
        "outputId": "ea6ddae3-551f-4668-fb9e-22549a4982b6"
      },
      "outputs": [
        {
          "data": {
            "text/plain": [
              "(34299, 10)"
            ]
          },
          "execution_count": 29,
          "metadata": {},
          "output_type": "execute_result"
        }
      ],
      "source": [
        "clean_df.shape"
      ]
    },
    {
      "cell_type": "code",
      "execution_count": null,
      "metadata": {
        "colab": {
          "base_uri": "https://localhost:8080/"
        },
        "id": "MuCmiWcqQWfG",
        "outputId": "e06a9c0a-dcf6-46c3-d13c-dbd69d6221fb"
      },
      "outputs": [
        {
          "data": {
            "text/plain": [
              "T3     27037\n",
              "T4      1542\n",
              "T6      1216\n",
              "T5      1173\n",
              "T19     1065\n",
              "T8       737\n",
              "T7       725\n",
              "T10      528\n",
              "T9       156\n",
              "T13       66\n",
              "T12       27\n",
              "T2        16\n",
              "T25        3\n",
              "T14        3\n",
              "T29        2\n",
              "T15        2\n",
              "T17        1\n",
              "Name: APPLICATION_TYPE, dtype: int64"
            ]
          },
          "execution_count": 30,
          "metadata": {},
          "output_type": "execute_result"
        }
      ],
      "source": [
        "# Look at APPLICATION_TYPE value counts for binning\n",
        "at_vc_s = clean_df['APPLICATION_TYPE'].value_counts()\n",
        "at_vc_s"
      ]
    },
    {
      "cell_type": "code",
      "execution_count": null,
      "metadata": {
        "colab": {
          "base_uri": "https://localhost:8080/"
        },
        "id": "QCEh8xLsQWfG",
        "outputId": "72c16571-9b17-4aa1-d6cd-58dbf4abd853"
      },
      "outputs": [
        {
          "data": {
            "text/plain": [
              "Other    34299\n",
              "Name: APPLICATION_TYPE, dtype: int64"
            ]
          },
          "execution_count": 31,
          "metadata": {},
          "output_type": "execute_result"
        }
      ],
      "source": [
        "# Choose a cutoff value and create a list of application types to be replaced\n",
        "\n",
        "APP_TYPE_COUNT_CUTOFF = 100\n",
        "app_type_below_cutoff_s = at_vc_s < APP_TYPE_COUNT_CUTOFF\n",
        "#print(app_type_below_cutoff_s)\n",
        "\n",
        "# use the variable name `application_types_to_replace`\n",
        "application_types_to_replace = at_vc_s[app_type_below_cutoff_s<100].index\n",
        "\n",
        "# Replace in dataframe\n",
        "for app in application_types_to_replace:\n",
        "    clean_df['APPLICATION_TYPE'] = clean_df['APPLICATION_TYPE'].replace(app,\"Other\")\n",
        "\n",
        "# Check to make sure binning was successful\n",
        "clean_df['APPLICATION_TYPE'].value_counts()"
      ]
    },
    {
      "cell_type": "code",
      "execution_count": null,
      "metadata": {
        "colab": {
          "base_uri": "https://localhost:8080/"
        },
        "id": "WAMjq0hMQWfG",
        "outputId": "a9782426-4fdb-48bd-d1e1-e8efddf1b46f"
      },
      "outputs": [
        {
          "data": {
            "text/plain": [
              "C1000    17326\n",
              "C2000     6074\n",
              "C1200     4837\n",
              "C3000     1918\n",
              "C2100     1883\n",
              "         ...  \n",
              "C4120        1\n",
              "C8210        1\n",
              "C2561        1\n",
              "C4500        1\n",
              "C2150        1\n",
              "Name: CLASSIFICATION, Length: 71, dtype: int64"
            ]
          },
          "execution_count": 32,
          "metadata": {},
          "output_type": "execute_result"
        }
      ],
      "source": [
        "# Look at CLASSIFICATION value counts for binning\n",
        "class_binning_s = clean_df['CLASSIFICATION'].value_counts()\n",
        "class_binning_s"
      ]
    },
    {
      "cell_type": "code",
      "execution_count": null,
      "metadata": {
        "id": "f1G2D1TmktDE"
      },
      "outputs": [],
      "source": []
    },
    {
      "cell_type": "code",
      "execution_count": null,
      "metadata": {
        "colab": {
          "base_uri": "https://localhost:8080/"
        },
        "id": "0-8MhPp8QWfH",
        "outputId": "c89bfc1d-96c9-4d0a-887f-3b0523ca7896"
      },
      "outputs": [
        {
          "data": {
            "text/plain": [
              "C1000    17326\n",
              "C2000     6074\n",
              "C1200     4837\n",
              "C3000     1918\n",
              "C2100     1883\n",
              "C7000      777\n",
              "C1700      287\n",
              "C4000      194\n",
              "C5000      116\n",
              "C1270      114\n",
              "C2700      104\n",
              "C2800       95\n",
              "C7100       75\n",
              "C1300       58\n",
              "C1280       50\n",
              "C1230       36\n",
              "C1400       34\n",
              "C7200       32\n",
              "C2300       32\n",
              "C1240       30\n",
              "C8000       20\n",
              "C7120       18\n",
              "C1500       16\n",
              "C1800       15\n",
              "C6000       15\n",
              "C1250       14\n",
              "C8200       11\n",
              "Name: CLASSIFICATION, dtype: int64"
            ]
          },
          "execution_count": 33,
          "metadata": {},
          "output_type": "execute_result"
        }
      ],
      "source": [
        "# You may find it helpful to look at CLASSIFICATION value counts >10\n",
        "counts_class = class_binning_s[class_binning_s>10]\n",
        "counts_class\n"
      ]
    },
    {
      "cell_type": "code",
      "execution_count": null,
      "metadata": {
        "colab": {
          "base_uri": "https://localhost:8080/"
        },
        "id": "EIoJugiyl7e2",
        "outputId": "aabb1f12-2eb3-4a96-fa45-8e48d20559c5"
      },
      "outputs": [
        {
          "data": {
            "text/plain": [
              "Other    34299\n",
              "Name: CLASSIFICATION, dtype: int64"
            ]
          },
          "execution_count": 34,
          "metadata": {},
          "output_type": "execute_result"
        }
      ],
      "source": [
        "# Choose a cutoff value and create a list of classifications to be replaced\n",
        "# use the variable name `classifications_to_replace`\n",
        "\n",
        "CLASS_COUNT_CUTOFF = 100\n",
        "class_below_cutoff_s = class_binning_s < CLASS_COUNT_CUTOFF\n",
        "\n",
        "classifications_to_replace = list (class_binning_s[class_below_cutoff_s<100].index)\n",
        "classifications_to_replace\n",
        "\n",
        "# Replace in dataframe\n",
        "for cls in classifications_to_replace:\n",
        "    clean_df['CLASSIFICATION'] = clean_df['CLASSIFICATION'].replace(cls,\"Other\")\n",
        "    \n",
        "# Check to make sure binning was successful\n",
        "clean_df['CLASSIFICATION'].value_counts()"
      ]
    },
    {
      "cell_type": "code",
      "execution_count": null,
      "metadata": {
        "colab": {
          "base_uri": "https://localhost:8080/",
          "height": 317
        },
        "id": "RTAYX8DKmoNF",
        "outputId": "905c090f-260a-414e-9cf4-f0642784a07d"
      },
      "outputs": [
        {
          "data": {
            "text/html": [
              "\n",
              "  <div id=\"df-acfdf6c2-0574-438c-a6bf-531c04030272\">\n",
              "    <div class=\"colab-df-container\">\n",
              "      <div>\n",
              "<style scoped>\n",
              "    .dataframe tbody tr th:only-of-type {\n",
              "        vertical-align: middle;\n",
              "    }\n",
              "\n",
              "    .dataframe tbody tr th {\n",
              "        vertical-align: top;\n",
              "    }\n",
              "\n",
              "    .dataframe thead th {\n",
              "        text-align: right;\n",
              "    }\n",
              "</style>\n",
              "<table border=\"1\" class=\"dataframe\">\n",
              "  <thead>\n",
              "    <tr style=\"text-align: right;\">\n",
              "      <th></th>\n",
              "      <th>STATUS</th>\n",
              "      <th>ASK_AMT</th>\n",
              "      <th>IS_SUCCESSFUL</th>\n",
              "      <th>APPLICATION_TYPE_Other</th>\n",
              "      <th>AFFILIATION_CompanySponsored</th>\n",
              "      <th>AFFILIATION_Family/Parent</th>\n",
              "      <th>AFFILIATION_Independent</th>\n",
              "      <th>AFFILIATION_National</th>\n",
              "      <th>AFFILIATION_Other</th>\n",
              "      <th>AFFILIATION_Regional</th>\n",
              "      <th>...</th>\n",
              "      <th>INCOME_AMT_1-9999</th>\n",
              "      <th>INCOME_AMT_10000-24999</th>\n",
              "      <th>INCOME_AMT_100000-499999</th>\n",
              "      <th>INCOME_AMT_10M-50M</th>\n",
              "      <th>INCOME_AMT_1M-5M</th>\n",
              "      <th>INCOME_AMT_25000-99999</th>\n",
              "      <th>INCOME_AMT_50M+</th>\n",
              "      <th>INCOME_AMT_5M-10M</th>\n",
              "      <th>SPECIAL_CONSIDERATIONS_N</th>\n",
              "      <th>SPECIAL_CONSIDERATIONS_Y</th>\n",
              "    </tr>\n",
              "  </thead>\n",
              "  <tbody>\n",
              "    <tr>\n",
              "      <th>0</th>\n",
              "      <td>1</td>\n",
              "      <td>5000</td>\n",
              "      <td>1</td>\n",
              "      <td>1</td>\n",
              "      <td>0</td>\n",
              "      <td>0</td>\n",
              "      <td>1</td>\n",
              "      <td>0</td>\n",
              "      <td>0</td>\n",
              "      <td>0</td>\n",
              "      <td>...</td>\n",
              "      <td>0</td>\n",
              "      <td>0</td>\n",
              "      <td>0</td>\n",
              "      <td>0</td>\n",
              "      <td>0</td>\n",
              "      <td>0</td>\n",
              "      <td>0</td>\n",
              "      <td>0</td>\n",
              "      <td>1</td>\n",
              "      <td>0</td>\n",
              "    </tr>\n",
              "    <tr>\n",
              "      <th>1</th>\n",
              "      <td>1</td>\n",
              "      <td>108590</td>\n",
              "      <td>1</td>\n",
              "      <td>1</td>\n",
              "      <td>0</td>\n",
              "      <td>0</td>\n",
              "      <td>1</td>\n",
              "      <td>0</td>\n",
              "      <td>0</td>\n",
              "      <td>0</td>\n",
              "      <td>...</td>\n",
              "      <td>1</td>\n",
              "      <td>0</td>\n",
              "      <td>0</td>\n",
              "      <td>0</td>\n",
              "      <td>0</td>\n",
              "      <td>0</td>\n",
              "      <td>0</td>\n",
              "      <td>0</td>\n",
              "      <td>1</td>\n",
              "      <td>0</td>\n",
              "    </tr>\n",
              "    <tr>\n",
              "      <th>2</th>\n",
              "      <td>1</td>\n",
              "      <td>5000</td>\n",
              "      <td>0</td>\n",
              "      <td>1</td>\n",
              "      <td>1</td>\n",
              "      <td>0</td>\n",
              "      <td>0</td>\n",
              "      <td>0</td>\n",
              "      <td>0</td>\n",
              "      <td>0</td>\n",
              "      <td>...</td>\n",
              "      <td>0</td>\n",
              "      <td>0</td>\n",
              "      <td>0</td>\n",
              "      <td>0</td>\n",
              "      <td>0</td>\n",
              "      <td>0</td>\n",
              "      <td>0</td>\n",
              "      <td>0</td>\n",
              "      <td>1</td>\n",
              "      <td>0</td>\n",
              "    </tr>\n",
              "    <tr>\n",
              "      <th>3</th>\n",
              "      <td>1</td>\n",
              "      <td>6692</td>\n",
              "      <td>1</td>\n",
              "      <td>1</td>\n",
              "      <td>1</td>\n",
              "      <td>0</td>\n",
              "      <td>0</td>\n",
              "      <td>0</td>\n",
              "      <td>0</td>\n",
              "      <td>0</td>\n",
              "      <td>...</td>\n",
              "      <td>0</td>\n",
              "      <td>1</td>\n",
              "      <td>0</td>\n",
              "      <td>0</td>\n",
              "      <td>0</td>\n",
              "      <td>0</td>\n",
              "      <td>0</td>\n",
              "      <td>0</td>\n",
              "      <td>1</td>\n",
              "      <td>0</td>\n",
              "    </tr>\n",
              "    <tr>\n",
              "      <th>4</th>\n",
              "      <td>1</td>\n",
              "      <td>142590</td>\n",
              "      <td>1</td>\n",
              "      <td>1</td>\n",
              "      <td>0</td>\n",
              "      <td>0</td>\n",
              "      <td>1</td>\n",
              "      <td>0</td>\n",
              "      <td>0</td>\n",
              "      <td>0</td>\n",
              "      <td>...</td>\n",
              "      <td>0</td>\n",
              "      <td>0</td>\n",
              "      <td>1</td>\n",
              "      <td>0</td>\n",
              "      <td>0</td>\n",
              "      <td>0</td>\n",
              "      <td>0</td>\n",
              "      <td>0</td>\n",
              "      <td>1</td>\n",
              "      <td>0</td>\n",
              "    </tr>\n",
              "  </tbody>\n",
              "</table>\n",
              "<p>5 rows × 31 columns</p>\n",
              "</div>\n",
              "      <button class=\"colab-df-convert\" onclick=\"convertToInteractive('df-acfdf6c2-0574-438c-a6bf-531c04030272')\"\n",
              "              title=\"Convert this dataframe to an interactive table.\"\n",
              "              style=\"display:none;\">\n",
              "        \n",
              "  <svg xmlns=\"http://www.w3.org/2000/svg\" height=\"24px\"viewBox=\"0 0 24 24\"\n",
              "       width=\"24px\">\n",
              "    <path d=\"M0 0h24v24H0V0z\" fill=\"none\"/>\n",
              "    <path d=\"M18.56 5.44l.94 2.06.94-2.06 2.06-.94-2.06-.94-.94-2.06-.94 2.06-2.06.94zm-11 1L8.5 8.5l.94-2.06 2.06-.94-2.06-.94L8.5 2.5l-.94 2.06-2.06.94zm10 10l.94 2.06.94-2.06 2.06-.94-2.06-.94-.94-2.06-.94 2.06-2.06.94z\"/><path d=\"M17.41 7.96l-1.37-1.37c-.4-.4-.92-.59-1.43-.59-.52 0-1.04.2-1.43.59L10.3 9.45l-7.72 7.72c-.78.78-.78 2.05 0 2.83L4 21.41c.39.39.9.59 1.41.59.51 0 1.02-.2 1.41-.59l7.78-7.78 2.81-2.81c.8-.78.8-2.07 0-2.86zM5.41 20L4 18.59l7.72-7.72 1.47 1.35L5.41 20z\"/>\n",
              "  </svg>\n",
              "      </button>\n",
              "      \n",
              "  <style>\n",
              "    .colab-df-container {\n",
              "      display:flex;\n",
              "      flex-wrap:wrap;\n",
              "      gap: 12px;\n",
              "    }\n",
              "\n",
              "    .colab-df-convert {\n",
              "      background-color: #E8F0FE;\n",
              "      border: none;\n",
              "      border-radius: 50%;\n",
              "      cursor: pointer;\n",
              "      display: none;\n",
              "      fill: #1967D2;\n",
              "      height: 32px;\n",
              "      padding: 0 0 0 0;\n",
              "      width: 32px;\n",
              "    }\n",
              "\n",
              "    .colab-df-convert:hover {\n",
              "      background-color: #E2EBFA;\n",
              "      box-shadow: 0px 1px 2px rgba(60, 64, 67, 0.3), 0px 1px 3px 1px rgba(60, 64, 67, 0.15);\n",
              "      fill: #174EA6;\n",
              "    }\n",
              "\n",
              "    [theme=dark] .colab-df-convert {\n",
              "      background-color: #3B4455;\n",
              "      fill: #D2E3FC;\n",
              "    }\n",
              "\n",
              "    [theme=dark] .colab-df-convert:hover {\n",
              "      background-color: #434B5C;\n",
              "      box-shadow: 0px 1px 3px 1px rgba(0, 0, 0, 0.15);\n",
              "      filter: drop-shadow(0px 1px 2px rgba(0, 0, 0, 0.3));\n",
              "      fill: #FFFFFF;\n",
              "    }\n",
              "  </style>\n",
              "\n",
              "      <script>\n",
              "        const buttonEl =\n",
              "          document.querySelector('#df-acfdf6c2-0574-438c-a6bf-531c04030272 button.colab-df-convert');\n",
              "        buttonEl.style.display =\n",
              "          google.colab.kernel.accessAllowed ? 'block' : 'none';\n",
              "\n",
              "        async function convertToInteractive(key) {\n",
              "          const element = document.querySelector('#df-acfdf6c2-0574-438c-a6bf-531c04030272');\n",
              "          const dataTable =\n",
              "            await google.colab.kernel.invokeFunction('convertToInteractive',\n",
              "                                                     [key], {});\n",
              "          if (!dataTable) return;\n",
              "\n",
              "          const docLinkHtml = 'Like what you see? Visit the ' +\n",
              "            '<a target=\"_blank\" href=https://colab.research.google.com/notebooks/data_table.ipynb>data table notebook</a>'\n",
              "            + ' to learn more about interactive tables.';\n",
              "          element.innerHTML = '';\n",
              "          dataTable['output_type'] = 'display_data';\n",
              "          await google.colab.output.renderOutput(dataTable, element);\n",
              "          const docLink = document.createElement('div');\n",
              "          docLink.innerHTML = docLinkHtml;\n",
              "          element.appendChild(docLink);\n",
              "        }\n",
              "      </script>\n",
              "    </div>\n",
              "  </div>\n",
              "  "
            ],
            "text/plain": [
              "   STATUS  ASK_AMT  IS_SUCCESSFUL  APPLICATION_TYPE_Other  \\\n",
              "0       1     5000              1                       1   \n",
              "1       1   108590              1                       1   \n",
              "2       1     5000              0                       1   \n",
              "3       1     6692              1                       1   \n",
              "4       1   142590              1                       1   \n",
              "\n",
              "   AFFILIATION_CompanySponsored  AFFILIATION_Family/Parent  \\\n",
              "0                             0                          0   \n",
              "1                             0                          0   \n",
              "2                             1                          0   \n",
              "3                             1                          0   \n",
              "4                             0                          0   \n",
              "\n",
              "   AFFILIATION_Independent  AFFILIATION_National  AFFILIATION_Other  \\\n",
              "0                        1                     0                  0   \n",
              "1                        1                     0                  0   \n",
              "2                        0                     0                  0   \n",
              "3                        0                     0                  0   \n",
              "4                        1                     0                  0   \n",
              "\n",
              "   AFFILIATION_Regional  ...  INCOME_AMT_1-9999  INCOME_AMT_10000-24999  \\\n",
              "0                     0  ...                  0                       0   \n",
              "1                     0  ...                  1                       0   \n",
              "2                     0  ...                  0                       0   \n",
              "3                     0  ...                  0                       1   \n",
              "4                     0  ...                  0                       0   \n",
              "\n",
              "   INCOME_AMT_100000-499999  INCOME_AMT_10M-50M  INCOME_AMT_1M-5M  \\\n",
              "0                         0                   0                 0   \n",
              "1                         0                   0                 0   \n",
              "2                         0                   0                 0   \n",
              "3                         0                   0                 0   \n",
              "4                         1                   0                 0   \n",
              "\n",
              "   INCOME_AMT_25000-99999  INCOME_AMT_50M+  INCOME_AMT_5M-10M  \\\n",
              "0                       0                0                  0   \n",
              "1                       0                0                  0   \n",
              "2                       0                0                  0   \n",
              "3                       0                0                  0   \n",
              "4                       0                0                  0   \n",
              "\n",
              "   SPECIAL_CONSIDERATIONS_N  SPECIAL_CONSIDERATIONS_Y  \n",
              "0                         1                         0  \n",
              "1                         1                         0  \n",
              "2                         1                         0  \n",
              "3                         1                         0  \n",
              "4                         1                         0  \n",
              "\n",
              "[5 rows x 31 columns]"
            ]
          },
          "execution_count": 35,
          "metadata": {},
          "output_type": "execute_result"
        }
      ],
      "source": [
        "# Convert categorical data to numeric with `pd.get_dummies`\n",
        "#pd.get_dummies(clean_df)\n",
        "clean_df = pd.get_dummies(clean_df)\n",
        "clean_df.head()"
      ]
    },
    {
      "cell_type": "code",
      "execution_count": null,
      "metadata": {
        "id": "Dh0g2HOQmwiJ"
      },
      "outputs": [],
      "source": [
        "# Split our preprocessed data into our features and target arrays\n",
        "y = clean_df['IS_SUCCESSFUL'].values\n",
        "\n",
        "X = clean_df.drop('IS_SUCCESSFUL', axis=1).values\n",
        "\n",
        "\n",
        "# Split the preprocessed data into a training and testing dataset\n",
        "X_train, X_test, y_train, y_test = train_test_split(X, y, random_state=3) "
      ]
    },
    {
      "cell_type": "code",
      "execution_count": null,
      "metadata": {
        "id": "uSpqq4ECmy7h"
      },
      "outputs": [],
      "source": [
        "# Create a StandardScaler instances\n",
        "scaler = StandardScaler()\n",
        "\n",
        "# Fit the StandardScaler\n",
        "X_scaler = scaler.fit(X_train)\n",
        "\n",
        "# Scale the data\n",
        "X_train_scaled = X_scaler.transform(X_train)\n",
        "X_test_scaled = X_scaler.transform(X_test)"
      ]
    },
    {
      "cell_type": "markdown",
      "metadata": {
        "id": "Zk5oLsHdm4vK"
      },
      "source": [
        "Compile, train and evaluate"
      ]
    },
    {
      "cell_type": "code",
      "execution_count": null,
      "metadata": {
        "colab": {
          "base_uri": "https://localhost:8080/"
        },
        "id": "5yldGfVnm2qD",
        "outputId": "92bd61a1-7f90-4985-fc52-ef1a78042ae5"
      },
      "outputs": [
        {
          "name": "stdout",
          "output_type": "stream",
          "text": [
            "Model: \"sequential_3\"\n",
            "_________________________________________________________________\n",
            " Layer (type)                Output Shape              Param #   \n",
            "=================================================================\n",
            " dense_9 (Dense)             (None, 3)                 93        \n",
            "                                                                 \n",
            " dense_10 (Dense)            (None, 4)                 16        \n",
            "                                                                 \n",
            " dense_11 (Dense)            (None, 1)                 5         \n",
            "                                                                 \n",
            "=================================================================\n",
            "Total params: 114\n",
            "Trainable params: 114\n",
            "Non-trainable params: 0\n",
            "_________________________________________________________________\n"
          ]
        }
      ],
      "source": [
        "# Define the model - deep neural net, i.e., the number of input features and hidden nodes for each layer.\n",
        "number_input_features = len( X_train_scaled[0])\n",
        "hidden_node_1 = 3\n",
        "hidden_node_2 = 4\n",
        "hidden_node_3 = 5\n",
        "nn = tf.keras.models.Sequential()\n",
        "\n",
        "# First hidden layer\n",
        "nn.add(tf.keras.layers.Dense(units=hidden_node_1, input_dim=number_input_features, activation='relu'))\n",
        "\n",
        "# Second hidden layer\n",
        "nn.add(tf.keras.layers.Dense(units=hidden_node_2, activation='relu'))\n",
        "\n",
        "# Output layer\n",
        "nn.add(tf.keras.layers.Dense(units=1, activation='sigmoid'))\n",
        "\n",
        "# Check the structure of the model\n",
        "nn.summary()"
      ]
    },
    {
      "cell_type": "code",
      "execution_count": null,
      "metadata": {
        "id": "PtJ7UMHwm8Nb"
      },
      "outputs": [],
      "source": [
        "# Compile the model\n",
        "nn.compile(loss=\"binary_crossentropy\", optimizer=\"adam\", metrics=[\"accuracy\"])"
      ]
    },
    {
      "cell_type": "code",
      "execution_count": null,
      "metadata": {
        "colab": {
          "background_save": true,
          "base_uri": "https://localhost:8080/"
        },
        "id": "Tt1GR2gHnXwi",
        "outputId": "291a2ad4-7873-4bc1-b831-58fc634f6c70"
      },
      "outputs": [
        {
          "name": "stdout",
          "output_type": "stream",
          "text": [
            "Epoch 1/100\n",
            "684/684 [==============================] - 2s 2ms/step - loss: 0.7188 - accuracy: 0.6350 - val_loss: 0.6430 - val_accuracy: 0.6857\n",
            "Epoch 2/100\n",
            "684/684 [==============================] - 1s 2ms/step - loss: 0.6320 - accuracy: 0.6829 - val_loss: 0.6169 - val_accuracy: 0.6997\n",
            "Epoch 3/100\n",
            "684/684 [==============================] - 1s 2ms/step - loss: 0.6164 - accuracy: 0.6947 - val_loss: 0.6075 - val_accuracy: 0.6997\n",
            "Epoch 4/100\n",
            "684/684 [==============================] - 1s 2ms/step - loss: 0.6099 - accuracy: 0.6969 - val_loss: 0.6033 - val_accuracy: 0.6994\n",
            "Epoch 5/100\n",
            "684/684 [==============================] - 2s 2ms/step - loss: 0.6069 - accuracy: 0.6976 - val_loss: 0.6017 - val_accuracy: 0.6989\n",
            "Epoch 6/100\n",
            "684/684 [==============================] - 2s 2ms/step - loss: 0.6055 - accuracy: 0.6969 - val_loss: 0.6010 - val_accuracy: 0.6999\n",
            "Epoch 7/100\n",
            "684/684 [==============================] - 1s 2ms/step - loss: 0.6047 - accuracy: 0.6971 - val_loss: 0.6006 - val_accuracy: 0.7012\n",
            "Epoch 8/100\n",
            "684/684 [==============================] - 1s 2ms/step - loss: 0.6043 - accuracy: 0.6972 - val_loss: 0.5998 - val_accuracy: 0.7012\n",
            "Epoch 9/100\n",
            "684/684 [==============================] - 1s 2ms/step - loss: 0.6041 - accuracy: 0.6973 - val_loss: 0.5999 - val_accuracy: 0.7015\n",
            "Epoch 10/100\n",
            "684/684 [==============================] - 1s 2ms/step - loss: 0.6040 - accuracy: 0.6967 - val_loss: 0.5990 - val_accuracy: 0.7015\n",
            "Epoch 11/100\n",
            "684/684 [==============================] - 1s 2ms/step - loss: 0.6038 - accuracy: 0.6968 - val_loss: 0.6000 - val_accuracy: 0.7004\n",
            "Epoch 12/100\n",
            "684/684 [==============================] - 1s 2ms/step - loss: 0.6036 - accuracy: 0.6979 - val_loss: 0.5990 - val_accuracy: 0.7056\n",
            "Epoch 13/100\n",
            "684/684 [==============================] - 1s 2ms/step - loss: 0.6037 - accuracy: 0.6967 - val_loss: 0.5999 - val_accuracy: 0.7012\n",
            "Epoch 14/100\n",
            "684/684 [==============================] - 1s 2ms/step - loss: 0.6032 - accuracy: 0.6977 - val_loss: 0.5994 - val_accuracy: 0.7046\n",
            "Epoch 15/100\n",
            "684/684 [==============================] - 2s 2ms/step - loss: 0.6035 - accuracy: 0.6970 - val_loss: 0.5996 - val_accuracy: 0.7051\n",
            "Epoch 16/100\n",
            "684/684 [==============================] - 2s 2ms/step - loss: 0.6034 - accuracy: 0.6977 - val_loss: 0.5999 - val_accuracy: 0.7012\n",
            "Epoch 17/100\n",
            "684/684 [==============================] - 1s 2ms/step - loss: 0.6033 - accuracy: 0.6975 - val_loss: 0.5999 - val_accuracy: 0.7010\n",
            "Epoch 18/100\n",
            "684/684 [==============================] - 1s 2ms/step - loss: 0.6030 - accuracy: 0.6976 - val_loss: 0.6000 - val_accuracy: 0.7007\n",
            "Epoch 19/100\n",
            "684/684 [==============================] - 1s 2ms/step - loss: 0.6030 - accuracy: 0.6974 - val_loss: 0.6004 - val_accuracy: 0.7002\n",
            "Epoch 20/100\n",
            "684/684 [==============================] - 1s 2ms/step - loss: 0.6029 - accuracy: 0.6981 - val_loss: 0.6004 - val_accuracy: 0.7007\n",
            "Epoch 21/100\n",
            "684/684 [==============================] - 1s 2ms/step - loss: 0.6028 - accuracy: 0.6979 - val_loss: 0.6007 - val_accuracy: 0.7004\n",
            "Epoch 22/100\n",
            "684/684 [==============================] - 1s 2ms/step - loss: 0.6027 - accuracy: 0.6982 - val_loss: 0.5999 - val_accuracy: 0.7051\n",
            "Epoch 23/100\n",
            "684/684 [==============================] - 1s 2ms/step - loss: 0.6028 - accuracy: 0.6980 - val_loss: 0.6019 - val_accuracy: 0.6997\n",
            "Epoch 24/100\n",
            "684/684 [==============================] - 1s 2ms/step - loss: 0.6027 - accuracy: 0.6985 - val_loss: 0.6005 - val_accuracy: 0.7002\n",
            "Epoch 25/100\n",
            "684/684 [==============================] - 2s 3ms/step - loss: 0.6028 - accuracy: 0.6976 - val_loss: 0.6013 - val_accuracy: 0.6999\n",
            "Epoch 26/100\n",
            "684/684 [==============================] - 2s 2ms/step - loss: 0.6026 - accuracy: 0.6979 - val_loss: 0.6006 - val_accuracy: 0.7043\n",
            "Epoch 27/100\n",
            "684/684 [==============================] - 1s 2ms/step - loss: 0.6027 - accuracy: 0.6977 - val_loss: 0.6002 - val_accuracy: 0.7002\n",
            "Epoch 28/100\n",
            "684/684 [==============================] - 1s 2ms/step - loss: 0.6026 - accuracy: 0.6984 - val_loss: 0.6005 - val_accuracy: 0.7046\n",
            "Epoch 29/100\n",
            "684/684 [==============================] - 1s 2ms/step - loss: 0.6027 - accuracy: 0.6983 - val_loss: 0.5998 - val_accuracy: 0.6999\n",
            "Epoch 30/100\n",
            "684/684 [==============================] - 1s 2ms/step - loss: 0.6027 - accuracy: 0.6985 - val_loss: 0.6009 - val_accuracy: 0.7043\n",
            "Epoch 31/100\n",
            "684/684 [==============================] - 1s 2ms/step - loss: 0.6026 - accuracy: 0.6978 - val_loss: 0.6007 - val_accuracy: 0.7036\n",
            "Epoch 32/100\n",
            "684/684 [==============================] - 1s 2ms/step - loss: 0.6025 - accuracy: 0.6986 - val_loss: 0.6020 - val_accuracy: 0.7030\n",
            "Epoch 33/100\n",
            "684/684 [==============================] - 1s 2ms/step - loss: 0.6026 - accuracy: 0.6985 - val_loss: 0.6004 - val_accuracy: 0.6991\n",
            "Epoch 34/100\n",
            "684/684 [==============================] - 2s 2ms/step - loss: 0.6025 - accuracy: 0.6988 - val_loss: 0.6007 - val_accuracy: 0.7046\n",
            "Epoch 35/100\n",
            "684/684 [==============================] - 2s 3ms/step - loss: 0.6025 - accuracy: 0.6983 - val_loss: 0.6002 - val_accuracy: 0.7051\n",
            "Epoch 36/100\n",
            "684/684 [==============================] - 1s 2ms/step - loss: 0.6025 - accuracy: 0.6983 - val_loss: 0.6003 - val_accuracy: 0.7041\n",
            "Epoch 37/100\n",
            "684/684 [==============================] - 1s 2ms/step - loss: 0.6024 - accuracy: 0.6985 - val_loss: 0.6010 - val_accuracy: 0.7002\n",
            "Epoch 38/100\n",
            "684/684 [==============================] - 1s 2ms/step - loss: 0.6023 - accuracy: 0.6986 - val_loss: 0.6004 - val_accuracy: 0.7041\n",
            "Epoch 39/100\n",
            "684/684 [==============================] - 1s 2ms/step - loss: 0.6024 - accuracy: 0.6988 - val_loss: 0.6001 - val_accuracy: 0.7004\n",
            "Epoch 40/100\n",
            "684/684 [==============================] - 1s 2ms/step - loss: 0.6026 - accuracy: 0.6990 - val_loss: 0.6005 - val_accuracy: 0.7038\n",
            "Epoch 41/100\n",
            "684/684 [==============================] - 1s 2ms/step - loss: 0.6024 - accuracy: 0.6989 - val_loss: 0.6007 - val_accuracy: 0.7036\n",
            "Epoch 42/100\n",
            "684/684 [==============================] - 1s 2ms/step - loss: 0.6024 - accuracy: 0.6986 - val_loss: 0.6003 - val_accuracy: 0.7041\n",
            "Epoch 43/100\n",
            "684/684 [==============================] - 1s 2ms/step - loss: 0.6023 - accuracy: 0.6986 - val_loss: 0.5998 - val_accuracy: 0.7046\n",
            "Epoch 44/100\n",
            "684/684 [==============================] - 2s 2ms/step - loss: 0.6023 - accuracy: 0.6990 - val_loss: 0.6003 - val_accuracy: 0.7012\n",
            "Epoch 45/100\n",
            "684/684 [==============================] - 2s 3ms/step - loss: 0.6025 - accuracy: 0.6985 - val_loss: 0.6006 - val_accuracy: 0.7038\n",
            "Epoch 46/100\n",
            "684/684 [==============================] - 1s 2ms/step - loss: 0.6023 - accuracy: 0.6983 - val_loss: 0.6001 - val_accuracy: 0.7046\n",
            "Epoch 47/100\n",
            "684/684 [==============================] - 1s 2ms/step - loss: 0.6025 - accuracy: 0.6983 - val_loss: 0.6009 - val_accuracy: 0.7038\n",
            "Epoch 48/100\n",
            "684/684 [==============================] - 1s 2ms/step - loss: 0.6023 - accuracy: 0.6989 - val_loss: 0.5999 - val_accuracy: 0.7043\n",
            "Epoch 49/100\n",
            "684/684 [==============================] - 1s 2ms/step - loss: 0.6024 - accuracy: 0.6987 - val_loss: 0.5999 - val_accuracy: 0.7041\n",
            "Epoch 50/100\n",
            "684/684 [==============================] - 1s 2ms/step - loss: 0.6022 - accuracy: 0.6985 - val_loss: 0.5999 - val_accuracy: 0.7010\n",
            "Epoch 51/100\n",
            "684/684 [==============================] - 1s 2ms/step - loss: 0.6022 - accuracy: 0.6987 - val_loss: 0.6011 - val_accuracy: 0.6994\n",
            "Epoch 52/100\n",
            "684/684 [==============================] - 1s 2ms/step - loss: 0.6023 - accuracy: 0.6991 - val_loss: 0.6006 - val_accuracy: 0.7036\n",
            "Epoch 53/100\n",
            "684/684 [==============================] - 1s 2ms/step - loss: 0.6023 - accuracy: 0.6987 - val_loss: 0.6004 - val_accuracy: 0.7030\n",
            "Epoch 54/100\n",
            "684/684 [==============================] - 2s 2ms/step - loss: 0.6022 - accuracy: 0.6986 - val_loss: 0.6005 - val_accuracy: 0.7030\n",
            "Epoch 55/100\n",
            "684/684 [==============================] - 2s 3ms/step - loss: 0.6022 - accuracy: 0.6987 - val_loss: 0.6005 - val_accuracy: 0.7030\n",
            "Epoch 56/100\n",
            "684/684 [==============================] - 1s 2ms/step - loss: 0.6024 - accuracy: 0.6986 - val_loss: 0.6008 - val_accuracy: 0.7030\n",
            "Epoch 57/100\n",
            "684/684 [==============================] - 1s 2ms/step - loss: 0.6023 - accuracy: 0.6984 - val_loss: 0.6010 - val_accuracy: 0.7030\n",
            "Epoch 58/100\n",
            "684/684 [==============================] - 1s 2ms/step - loss: 0.6022 - accuracy: 0.6984 - val_loss: 0.6012 - val_accuracy: 0.7036\n",
            "Epoch 59/100\n",
            "684/684 [==============================] - 1s 2ms/step - loss: 0.6023 - accuracy: 0.6985 - val_loss: 0.5999 - val_accuracy: 0.7043\n",
            "Epoch 60/100\n",
            "684/684 [==============================] - 1s 2ms/step - loss: 0.6023 - accuracy: 0.6988 - val_loss: 0.6009 - val_accuracy: 0.7033\n",
            "Epoch 61/100\n",
            "684/684 [==============================] - 1s 2ms/step - loss: 0.6023 - accuracy: 0.6987 - val_loss: 0.6007 - val_accuracy: 0.6984\n",
            "Epoch 62/100\n",
            "684/684 [==============================] - 1s 2ms/step - loss: 0.6021 - accuracy: 0.6992 - val_loss: 0.6012 - val_accuracy: 0.6997\n",
            "Epoch 63/100\n",
            "684/684 [==============================] - 1s 2ms/step - loss: 0.6023 - accuracy: 0.6987 - val_loss: 0.6015 - val_accuracy: 0.6997\n",
            "Epoch 64/100\n",
            "684/684 [==============================] - 2s 2ms/step - loss: 0.6022 - accuracy: 0.6984 - val_loss: 0.6008 - val_accuracy: 0.7038\n",
            "Epoch 65/100\n",
            "684/684 [==============================] - 2s 2ms/step - loss: 0.6023 - accuracy: 0.6992 - val_loss: 0.6011 - val_accuracy: 0.7041\n",
            "Epoch 66/100\n",
            "684/684 [==============================] - 1s 2ms/step - loss: 0.6022 - accuracy: 0.6989 - val_loss: 0.6005 - val_accuracy: 0.7038\n",
            "Epoch 67/100\n",
            "684/684 [==============================] - 1s 2ms/step - loss: 0.6022 - accuracy: 0.6987 - val_loss: 0.6005 - val_accuracy: 0.7041\n",
            "Epoch 68/100\n",
            "684/684 [==============================] - 2s 2ms/step - loss: 0.6021 - accuracy: 0.6985 - val_loss: 0.6007 - val_accuracy: 0.7041\n",
            "Epoch 69/100\n",
            "684/684 [==============================] - 1s 2ms/step - loss: 0.6023 - accuracy: 0.6988 - val_loss: 0.6005 - val_accuracy: 0.7033\n",
            "Epoch 70/100\n",
            "684/684 [==============================] - 1s 2ms/step - loss: 0.6020 - accuracy: 0.6992 - val_loss: 0.6002 - val_accuracy: 0.7048\n",
            "Epoch 71/100\n",
            "684/684 [==============================] - 1s 2ms/step - loss: 0.6021 - accuracy: 0.6989 - val_loss: 0.6009 - val_accuracy: 0.6989\n",
            "Epoch 72/100\n",
            "684/684 [==============================] - 1s 2ms/step - loss: 0.6022 - accuracy: 0.6992 - val_loss: 0.6006 - val_accuracy: 0.7038\n",
            "Epoch 73/100\n",
            "684/684 [==============================] - 1s 2ms/step - loss: 0.6022 - accuracy: 0.6990 - val_loss: 0.6012 - val_accuracy: 0.6994\n",
            "Epoch 74/100\n",
            "684/684 [==============================] - 2s 2ms/step - loss: 0.6022 - accuracy: 0.6976 - val_loss: 0.6008 - val_accuracy: 0.7038\n",
            "Epoch 75/100\n",
            "684/684 [==============================] - 2s 2ms/step - loss: 0.6023 - accuracy: 0.6988 - val_loss: 0.6004 - val_accuracy: 0.7041\n",
            "Epoch 76/100\n",
            "684/684 [==============================] - 1s 2ms/step - loss: 0.6022 - accuracy: 0.6987 - val_loss: 0.6009 - val_accuracy: 0.6997\n",
            "Epoch 77/100\n",
            "684/684 [==============================] - 1s 2ms/step - loss: 0.6020 - accuracy: 0.6988 - val_loss: 0.6008 - val_accuracy: 0.7004\n",
            "Epoch 78/100\n",
            "684/684 [==============================] - 1s 2ms/step - loss: 0.6021 - accuracy: 0.6987 - val_loss: 0.6004 - val_accuracy: 0.6997\n",
            "Epoch 79/100\n",
            "684/684 [==============================] - 1s 2ms/step - loss: 0.6023 - accuracy: 0.6988 - val_loss: 0.6001 - val_accuracy: 0.7038\n",
            "Epoch 80/100\n",
            "684/684 [==============================] - 1s 2ms/step - loss: 0.6022 - accuracy: 0.6990 - val_loss: 0.6007 - val_accuracy: 0.7038\n",
            "Epoch 81/100\n",
            "684/684 [==============================] - 1s 2ms/step - loss: 0.6022 - accuracy: 0.6986 - val_loss: 0.6012 - val_accuracy: 0.7043\n",
            "Epoch 82/100\n",
            "684/684 [==============================] - 1s 2ms/step - loss: 0.6022 - accuracy: 0.6987 - val_loss: 0.6006 - val_accuracy: 0.7036\n",
            "Epoch 83/100\n",
            "684/684 [==============================] - 1s 2ms/step - loss: 0.6022 - accuracy: 0.6985 - val_loss: 0.6003 - val_accuracy: 0.6997\n",
            "Epoch 84/100\n",
            "684/684 [==============================] - 2s 3ms/step - loss: 0.6020 - accuracy: 0.6990 - val_loss: 0.6019 - val_accuracy: 0.6991\n",
            "Epoch 85/100\n",
            "684/684 [==============================] - 2s 2ms/step - loss: 0.6022 - accuracy: 0.6987 - val_loss: 0.6010 - val_accuracy: 0.7041\n",
            "Epoch 86/100\n",
            "684/684 [==============================] - 1s 2ms/step - loss: 0.6021 - accuracy: 0.6987 - val_loss: 0.6011 - val_accuracy: 0.6991\n",
            "Epoch 87/100\n",
            "684/684 [==============================] - 2s 2ms/step - loss: 0.6020 - accuracy: 0.6988 - val_loss: 0.6005 - val_accuracy: 0.7041\n",
            "Epoch 88/100\n",
            "684/684 [==============================] - 1s 2ms/step - loss: 0.6023 - accuracy: 0.6984 - val_loss: 0.6005 - val_accuracy: 0.7038\n",
            "Epoch 89/100\n",
            "684/684 [==============================] - 1s 2ms/step - loss: 0.6022 - accuracy: 0.6992 - val_loss: 0.6006 - val_accuracy: 0.7030\n",
            "Epoch 90/100\n",
            "684/684 [==============================] - 1s 2ms/step - loss: 0.6021 - accuracy: 0.6983 - val_loss: 0.6005 - val_accuracy: 0.7043\n",
            "Epoch 91/100\n",
            "684/684 [==============================] - 1s 2ms/step - loss: 0.6021 - accuracy: 0.6987 - val_loss: 0.6013 - val_accuracy: 0.6989\n",
            "Epoch 92/100\n",
            "684/684 [==============================] - 1s 2ms/step - loss: 0.6021 - accuracy: 0.6986 - val_loss: 0.6008 - val_accuracy: 0.7036\n",
            "Epoch 93/100\n",
            "684/684 [==============================] - 2s 2ms/step - loss: 0.6021 - accuracy: 0.6985 - val_loss: 0.6012 - val_accuracy: 0.6999\n",
            "Epoch 94/100\n",
            "684/684 [==============================] - 2s 3ms/step - loss: 0.6020 - accuracy: 0.6982 - val_loss: 0.6007 - val_accuracy: 0.7030\n",
            "Epoch 95/100\n",
            "684/684 [==============================] - 1s 2ms/step - loss: 0.6020 - accuracy: 0.6985 - val_loss: 0.6008 - val_accuracy: 0.6997\n",
            "Epoch 96/100\n",
            "684/684 [==============================] - 1s 2ms/step - loss: 0.6022 - accuracy: 0.6987 - val_loss: 0.6007 - val_accuracy: 0.7033\n",
            "Epoch 97/100\n",
            "684/684 [==============================] - 1s 2ms/step - loss: 0.6022 - accuracy: 0.6984 - val_loss: 0.6007 - val_accuracy: 0.7028\n",
            "Epoch 98/100\n",
            "684/684 [==============================] - 1s 2ms/step - loss: 0.6020 - accuracy: 0.6992 - val_loss: 0.6009 - val_accuracy: 0.7030\n",
            "Epoch 99/100\n",
            "684/684 [==============================] - 1s 2ms/step - loss: 0.6022 - accuracy: 0.6986 - val_loss: 0.6019 - val_accuracy: 0.6999\n",
            "Epoch 100/100\n",
            "684/684 [==============================] - 1s 2ms/step - loss: 0.6023 - accuracy: 0.6990 - val_loss: 0.6009 - val_accuracy: 0.6991\n"
          ]
        }
      ],
      "source": [
        "# Train the model\n",
        "fit_model = nn.fit(X_train_scaled,y_train,validation_split=0.15, epochs=100)"
      ]
    },
    {
      "cell_type": "code",
      "execution_count": null,
      "metadata": {
        "colab": {
          "background_save": true
        },
        "id": "Imhk1oznnx0x",
        "outputId": "660753f5-004f-45ce-bdaa-56ef7029f794"
      },
      "outputs": [
        {
          "name": "stdout",
          "output_type": "stream",
          "text": [
            "268/268 - 0s - loss: 0.6065 - accuracy: 0.6975 - 291ms/epoch - 1ms/step\n",
            "Loss: 0.606468915939331, Accuracy: 0.6974927186965942\n"
          ]
        }
      ],
      "source": [
        "# Evaluate the model using the test data\n",
        "model_loss, model_accuracy = nn.evaluate(X_test_scaled,y_test,verbose=2)\n",
        "print(f\"Loss: {model_loss}, Accuracy: {model_accuracy}\")"
      ]
    },
    {
      "cell_type": "code",
      "execution_count": null,
      "metadata": {
        "colab": {
          "background_save": true
        },
        "id": "RKTVWq9pn4sn"
      },
      "outputs": [],
      "source": [
        "# Export our model to HDF5 file\n",
        "#from google.colab import files\n",
        "\n",
        "#nn.save('AlphabetSoupCharity.h5')\n",
        "#files.download('AlphabetSoupCharity.h5')"
      ]
    }
  ],
  "metadata": {
    "colab": {
      "provenance": [],
      "authorship_tag": "ABX9TyPU5uuMIM68c9xZl2zvhWMV",
      "include_colab_link": true
    },
    "kernelspec": {
      "display_name": "Python 3",
      "name": "python3"
    },
    "language_info": {
      "name": "python"
    }
  },
  "nbformat": 4,
  "nbformat_minor": 0
}