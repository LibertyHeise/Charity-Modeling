{
  "cells": [
    {
      "cell_type": "markdown",
      "metadata": {
        "id": "view-in-github",
        "colab_type": "text"
      },
      "source": [
        "<a href=\"https://colab.research.google.com/github/LibertyHeise/deep-learning-challenge/blob/main/Charity_model_two.ipynb\" target=\"_parent\"><img src=\"https://colab.research.google.com/assets/colab-badge.svg\" alt=\"Open In Colab\"/></a>"
      ]
    },
    {
      "cell_type": "markdown",
      "metadata": {
        "id": "-0ZDASRkqvK5"
      },
      "source": [
        "Preprocessing"
      ]
    },
    {
      "cell_type": "code",
      "execution_count": 2,
      "metadata": {
        "id": "p9oQhwYRQWfD"
      },
      "outputs": [],
      "source": [
        "# Import our dependencies\n",
        "from sklearn.model_selection import train_test_split\n",
        "from sklearn.preprocessing import StandardScaler\n",
        "import pandas as pd\n",
        "import tensorflow as tf\n",
        "import matplotlib as plt\n",
        "import sklearn as skl\n",
        "import tensorflow as tf"
      ]
    },
    {
      "cell_type": "code",
      "execution_count": 3,
      "metadata": {
        "colab": {
          "base_uri": "https://localhost:8080/"
        },
        "id": "wR1ThAMnq0NR",
        "outputId": "ad27a79b-2251-4ca5-abe4-0245235c3958"
      },
      "outputs": [
        {
          "output_type": "stream",
          "name": "stdout",
          "text": [
            "Mounted at /content/drive\n"
          ]
        }
      ],
      "source": [
        "from google.colab import drive\n",
        "drive.mount('/content/drive')\n",
        "\n",
        "application_df = pd.read_csv(\"/content/drive/MyDrive/ChariltyProj/charity_data.csv\")"
      ]
    },
    {
      "cell_type": "code",
      "execution_count": 4,
      "metadata": {
        "id": "K8_HLXOkQWfF"
      },
      "outputs": [],
      "source": [
        "# Drop the non-beneficial ID columns, 'EIN' and 'NAME'.\n",
        "clean_df = application_df.drop(columns=['EIN','NAME'])\n",
        "\n"
      ]
    },
    {
      "cell_type": "code",
      "execution_count": 5,
      "metadata": {
        "colab": {
          "base_uri": "https://localhost:8080/"
        },
        "id": "cTRg1NnmQWfF",
        "outputId": "82dfeedc-b93c-43ed-e5a0-4238b264826e"
      },
      "outputs": [
        {
          "output_type": "stream",
          "name": "stdout",
          "text": [
            "APPLICATION_TYPE          0\n",
            "AFFILIATION               0\n",
            "CLASSIFICATION            0\n",
            "USE_CASE                  0\n",
            "ORGANIZATION              0\n",
            "STATUS                    0\n",
            "INCOME_AMT                0\n",
            "SPECIAL_CONSIDERATIONS    0\n",
            "ASK_AMT                   0\n",
            "IS_SUCCESSFUL             0\n",
            "dtype: int64\n"
          ]
        },
        {
          "output_type": "execute_result",
          "data": {
            "text/plain": [
              "APPLICATION_TYPE            17\n",
              "AFFILIATION                  6\n",
              "CLASSIFICATION              71\n",
              "USE_CASE                     5\n",
              "ORGANIZATION                 4\n",
              "STATUS                       2\n",
              "INCOME_AMT                   9\n",
              "SPECIAL_CONSIDERATIONS       2\n",
              "ASK_AMT                   8747\n",
              "IS_SUCCESSFUL                2\n",
              "dtype: int64"
            ]
          },
          "metadata": {},
          "execution_count": 5
        }
      ],
      "source": [
        "# Determine the number of unique values in each column.\n",
        "print(clean_df.isnull().sum())\n",
        "clean_df.nunique()"
      ]
    },
    {
      "cell_type": "code",
      "execution_count": 6,
      "metadata": {
        "colab": {
          "base_uri": "https://localhost:8080/"
        },
        "id": "19r2uwSpQWfG",
        "outputId": "bcc295a4-21d8-4924-b570-45861da11354"
      },
      "outputs": [
        {
          "output_type": "execute_result",
          "data": {
            "text/plain": [
              "Index(['APPLICATION_TYPE', 'AFFILIATION', 'CLASSIFICATION', 'USE_CASE',\n",
              "       'ORGANIZATION', 'STATUS', 'INCOME_AMT', 'SPECIAL_CONSIDERATIONS',\n",
              "       'ASK_AMT', 'IS_SUCCESSFUL'],\n",
              "      dtype='object')"
            ]
          },
          "metadata": {},
          "execution_count": 6
        }
      ],
      "source": [
        "clean_df.columns"
      ]
    },
    {
      "cell_type": "code",
      "execution_count": 7,
      "metadata": {
        "colab": {
          "base_uri": "https://localhost:8080/"
        },
        "id": "lEsa5ZS4QWfG",
        "outputId": "73f41980-f7f1-4c48-a91b-4463543ff65b"
      },
      "outputs": [
        {
          "output_type": "execute_result",
          "data": {
            "text/plain": [
              "(34299, 10)"
            ]
          },
          "metadata": {},
          "execution_count": 7
        }
      ],
      "source": [
        "clean_df.shape"
      ]
    },
    {
      "cell_type": "code",
      "execution_count": 8,
      "metadata": {
        "colab": {
          "base_uri": "https://localhost:8080/"
        },
        "id": "MuCmiWcqQWfG",
        "outputId": "8b5f9121-083d-4dd7-8ddd-8cf7363ee34a"
      },
      "outputs": [
        {
          "output_type": "execute_result",
          "data": {
            "text/plain": [
              "T3     27037\n",
              "T4      1542\n",
              "T6      1216\n",
              "T5      1173\n",
              "T19     1065\n",
              "T8       737\n",
              "T7       725\n",
              "T10      528\n",
              "T9       156\n",
              "T13       66\n",
              "T12       27\n",
              "T2        16\n",
              "T25        3\n",
              "T14        3\n",
              "T29        2\n",
              "T15        2\n",
              "T17        1\n",
              "Name: APPLICATION_TYPE, dtype: int64"
            ]
          },
          "metadata": {},
          "execution_count": 8
        }
      ],
      "source": [
        "# Look at APPLICATION_TYPE value counts for binning\n",
        "at_vc_s = clean_df['APPLICATION_TYPE'].value_counts()\n",
        "at_vc_s"
      ]
    },
    {
      "cell_type": "code",
      "execution_count": 9,
      "metadata": {
        "colab": {
          "base_uri": "https://localhost:8080/"
        },
        "id": "QCEh8xLsQWfG",
        "outputId": "2708e6e7-5df5-43fa-9416-bd7e75f5eb31"
      },
      "outputs": [
        {
          "output_type": "execute_result",
          "data": {
            "text/plain": [
              "Other    34299\n",
              "Name: APPLICATION_TYPE, dtype: int64"
            ]
          },
          "metadata": {},
          "execution_count": 9
        }
      ],
      "source": [
        "# Choose a cutoff value and create a list of application types to be replaced\n",
        "\n",
        "APP_TYPE_COUNT_CUTOFF = 100\n",
        "app_type_below_cutoff_s = at_vc_s < APP_TYPE_COUNT_CUTOFF\n",
        "#print(app_type_below_cutoff_s)\n",
        "\n",
        "# use the variable name `application_types_to_replace`\n",
        "application_types_to_replace = at_vc_s[app_type_below_cutoff_s<100].index\n",
        "\n",
        "# Replace in dataframe\n",
        "for app in application_types_to_replace:\n",
        "    clean_df['APPLICATION_TYPE'] = clean_df['APPLICATION_TYPE'].replace(app,\"Other\")\n",
        "\n",
        "# Check to make sure binning was successful\n",
        "clean_df['APPLICATION_TYPE'].value_counts()"
      ]
    },
    {
      "cell_type": "code",
      "execution_count": 10,
      "metadata": {
        "colab": {
          "base_uri": "https://localhost:8080/"
        },
        "id": "WAMjq0hMQWfG",
        "outputId": "a575f4ed-e751-46b0-c998-11705c1140bd"
      },
      "outputs": [
        {
          "output_type": "execute_result",
          "data": {
            "text/plain": [
              "C1000    17326\n",
              "C2000     6074\n",
              "C1200     4837\n",
              "C3000     1918\n",
              "C2100     1883\n",
              "         ...  \n",
              "C4120        1\n",
              "C8210        1\n",
              "C2561        1\n",
              "C4500        1\n",
              "C2150        1\n",
              "Name: CLASSIFICATION, Length: 71, dtype: int64"
            ]
          },
          "metadata": {},
          "execution_count": 10
        }
      ],
      "source": [
        "# Look at CLASSIFICATION value counts for binning\n",
        "class_binning_s = clean_df['CLASSIFICATION'].value_counts()\n",
        "class_binning_s"
      ]
    },
    {
      "cell_type": "code",
      "execution_count": 10,
      "metadata": {
        "id": "f1G2D1TmktDE"
      },
      "outputs": [],
      "source": []
    },
    {
      "cell_type": "code",
      "execution_count": 11,
      "metadata": {
        "colab": {
          "base_uri": "https://localhost:8080/"
        },
        "id": "0-8MhPp8QWfH",
        "outputId": "ecbef034-1605-4f5c-9dc7-56b73a8f43fc"
      },
      "outputs": [
        {
          "output_type": "execute_result",
          "data": {
            "text/plain": [
              "C1000    17326\n",
              "C2000     6074\n",
              "C1200     4837\n",
              "C3000     1918\n",
              "C2100     1883\n",
              "C7000      777\n",
              "C1700      287\n",
              "C4000      194\n",
              "C5000      116\n",
              "C1270      114\n",
              "C2700      104\n",
              "C2800       95\n",
              "C7100       75\n",
              "C1300       58\n",
              "C1280       50\n",
              "C1230       36\n",
              "C1400       34\n",
              "C7200       32\n",
              "C2300       32\n",
              "C1240       30\n",
              "C8000       20\n",
              "C7120       18\n",
              "C1500       16\n",
              "C1800       15\n",
              "C6000       15\n",
              "C1250       14\n",
              "C8200       11\n",
              "Name: CLASSIFICATION, dtype: int64"
            ]
          },
          "metadata": {},
          "execution_count": 11
        }
      ],
      "source": [
        "# You may find it helpful to look at CLASSIFICATION value counts >10\n",
        "counts_class = class_binning_s[class_binning_s>10]\n",
        "counts_class\n"
      ]
    },
    {
      "cell_type": "code",
      "execution_count": 12,
      "metadata": {
        "colab": {
          "base_uri": "https://localhost:8080/"
        },
        "id": "EIoJugiyl7e2",
        "outputId": "a6cbfee1-9735-404f-bf26-150539d7603c"
      },
      "outputs": [
        {
          "output_type": "execute_result",
          "data": {
            "text/plain": [
              "Other    34299\n",
              "Name: CLASSIFICATION, dtype: int64"
            ]
          },
          "metadata": {},
          "execution_count": 12
        }
      ],
      "source": [
        "# Choose a cutoff value and create a list of classifications to be replaced\n",
        "# use the variable name `classifications_to_replace`\n",
        "\n",
        "CLASS_COUNT_CUTOFF = 100\n",
        "class_below_cutoff_s = class_binning_s < CLASS_COUNT_CUTOFF\n",
        "\n",
        "classifications_to_replace = list (class_binning_s[class_below_cutoff_s<100].index)\n",
        "classifications_to_replace\n",
        "\n",
        "# Replace in dataframe\n",
        "for cls in classifications_to_replace:\n",
        "    clean_df['CLASSIFICATION'] = clean_df['CLASSIFICATION'].replace(cls,\"Other\")\n",
        "    \n",
        "# Check to make sure binning was successful\n",
        "clean_df['CLASSIFICATION'].value_counts()"
      ]
    },
    {
      "cell_type": "code",
      "execution_count": 13,
      "metadata": {
        "colab": {
          "base_uri": "https://localhost:8080/",
          "height": 317
        },
        "id": "RTAYX8DKmoNF",
        "outputId": "79006668-aa6f-415b-c225-416297b1c63a"
      },
      "outputs": [
        {
          "output_type": "execute_result",
          "data": {
            "text/plain": [
              "   STATUS  ASK_AMT  IS_SUCCESSFUL  APPLICATION_TYPE_Other  \\\n",
              "0       1     5000              1                       1   \n",
              "1       1   108590              1                       1   \n",
              "2       1     5000              0                       1   \n",
              "3       1     6692              1                       1   \n",
              "4       1   142590              1                       1   \n",
              "\n",
              "   AFFILIATION_CompanySponsored  AFFILIATION_Family/Parent  \\\n",
              "0                             0                          0   \n",
              "1                             0                          0   \n",
              "2                             1                          0   \n",
              "3                             1                          0   \n",
              "4                             0                          0   \n",
              "\n",
              "   AFFILIATION_Independent  AFFILIATION_National  AFFILIATION_Other  \\\n",
              "0                        1                     0                  0   \n",
              "1                        1                     0                  0   \n",
              "2                        0                     0                  0   \n",
              "3                        0                     0                  0   \n",
              "4                        1                     0                  0   \n",
              "\n",
              "   AFFILIATION_Regional  ...  INCOME_AMT_1-9999  INCOME_AMT_10000-24999  \\\n",
              "0                     0  ...                  0                       0   \n",
              "1                     0  ...                  1                       0   \n",
              "2                     0  ...                  0                       0   \n",
              "3                     0  ...                  0                       1   \n",
              "4                     0  ...                  0                       0   \n",
              "\n",
              "   INCOME_AMT_100000-499999  INCOME_AMT_10M-50M  INCOME_AMT_1M-5M  \\\n",
              "0                         0                   0                 0   \n",
              "1                         0                   0                 0   \n",
              "2                         0                   0                 0   \n",
              "3                         0                   0                 0   \n",
              "4                         1                   0                 0   \n",
              "\n",
              "   INCOME_AMT_25000-99999  INCOME_AMT_50M+  INCOME_AMT_5M-10M  \\\n",
              "0                       0                0                  0   \n",
              "1                       0                0                  0   \n",
              "2                       0                0                  0   \n",
              "3                       0                0                  0   \n",
              "4                       0                0                  0   \n",
              "\n",
              "   SPECIAL_CONSIDERATIONS_N  SPECIAL_CONSIDERATIONS_Y  \n",
              "0                         1                         0  \n",
              "1                         1                         0  \n",
              "2                         1                         0  \n",
              "3                         1                         0  \n",
              "4                         1                         0  \n",
              "\n",
              "[5 rows x 31 columns]"
            ],
            "text/html": [
              "\n",
              "  <div id=\"df-746998df-10ca-44bf-b827-6aa31671fb88\">\n",
              "    <div class=\"colab-df-container\">\n",
              "      <div>\n",
              "<style scoped>\n",
              "    .dataframe tbody tr th:only-of-type {\n",
              "        vertical-align: middle;\n",
              "    }\n",
              "\n",
              "    .dataframe tbody tr th {\n",
              "        vertical-align: top;\n",
              "    }\n",
              "\n",
              "    .dataframe thead th {\n",
              "        text-align: right;\n",
              "    }\n",
              "</style>\n",
              "<table border=\"1\" class=\"dataframe\">\n",
              "  <thead>\n",
              "    <tr style=\"text-align: right;\">\n",
              "      <th></th>\n",
              "      <th>STATUS</th>\n",
              "      <th>ASK_AMT</th>\n",
              "      <th>IS_SUCCESSFUL</th>\n",
              "      <th>APPLICATION_TYPE_Other</th>\n",
              "      <th>AFFILIATION_CompanySponsored</th>\n",
              "      <th>AFFILIATION_Family/Parent</th>\n",
              "      <th>AFFILIATION_Independent</th>\n",
              "      <th>AFFILIATION_National</th>\n",
              "      <th>AFFILIATION_Other</th>\n",
              "      <th>AFFILIATION_Regional</th>\n",
              "      <th>...</th>\n",
              "      <th>INCOME_AMT_1-9999</th>\n",
              "      <th>INCOME_AMT_10000-24999</th>\n",
              "      <th>INCOME_AMT_100000-499999</th>\n",
              "      <th>INCOME_AMT_10M-50M</th>\n",
              "      <th>INCOME_AMT_1M-5M</th>\n",
              "      <th>INCOME_AMT_25000-99999</th>\n",
              "      <th>INCOME_AMT_50M+</th>\n",
              "      <th>INCOME_AMT_5M-10M</th>\n",
              "      <th>SPECIAL_CONSIDERATIONS_N</th>\n",
              "      <th>SPECIAL_CONSIDERATIONS_Y</th>\n",
              "    </tr>\n",
              "  </thead>\n",
              "  <tbody>\n",
              "    <tr>\n",
              "      <th>0</th>\n",
              "      <td>1</td>\n",
              "      <td>5000</td>\n",
              "      <td>1</td>\n",
              "      <td>1</td>\n",
              "      <td>0</td>\n",
              "      <td>0</td>\n",
              "      <td>1</td>\n",
              "      <td>0</td>\n",
              "      <td>0</td>\n",
              "      <td>0</td>\n",
              "      <td>...</td>\n",
              "      <td>0</td>\n",
              "      <td>0</td>\n",
              "      <td>0</td>\n",
              "      <td>0</td>\n",
              "      <td>0</td>\n",
              "      <td>0</td>\n",
              "      <td>0</td>\n",
              "      <td>0</td>\n",
              "      <td>1</td>\n",
              "      <td>0</td>\n",
              "    </tr>\n",
              "    <tr>\n",
              "      <th>1</th>\n",
              "      <td>1</td>\n",
              "      <td>108590</td>\n",
              "      <td>1</td>\n",
              "      <td>1</td>\n",
              "      <td>0</td>\n",
              "      <td>0</td>\n",
              "      <td>1</td>\n",
              "      <td>0</td>\n",
              "      <td>0</td>\n",
              "      <td>0</td>\n",
              "      <td>...</td>\n",
              "      <td>1</td>\n",
              "      <td>0</td>\n",
              "      <td>0</td>\n",
              "      <td>0</td>\n",
              "      <td>0</td>\n",
              "      <td>0</td>\n",
              "      <td>0</td>\n",
              "      <td>0</td>\n",
              "      <td>1</td>\n",
              "      <td>0</td>\n",
              "    </tr>\n",
              "    <tr>\n",
              "      <th>2</th>\n",
              "      <td>1</td>\n",
              "      <td>5000</td>\n",
              "      <td>0</td>\n",
              "      <td>1</td>\n",
              "      <td>1</td>\n",
              "      <td>0</td>\n",
              "      <td>0</td>\n",
              "      <td>0</td>\n",
              "      <td>0</td>\n",
              "      <td>0</td>\n",
              "      <td>...</td>\n",
              "      <td>0</td>\n",
              "      <td>0</td>\n",
              "      <td>0</td>\n",
              "      <td>0</td>\n",
              "      <td>0</td>\n",
              "      <td>0</td>\n",
              "      <td>0</td>\n",
              "      <td>0</td>\n",
              "      <td>1</td>\n",
              "      <td>0</td>\n",
              "    </tr>\n",
              "    <tr>\n",
              "      <th>3</th>\n",
              "      <td>1</td>\n",
              "      <td>6692</td>\n",
              "      <td>1</td>\n",
              "      <td>1</td>\n",
              "      <td>1</td>\n",
              "      <td>0</td>\n",
              "      <td>0</td>\n",
              "      <td>0</td>\n",
              "      <td>0</td>\n",
              "      <td>0</td>\n",
              "      <td>...</td>\n",
              "      <td>0</td>\n",
              "      <td>1</td>\n",
              "      <td>0</td>\n",
              "      <td>0</td>\n",
              "      <td>0</td>\n",
              "      <td>0</td>\n",
              "      <td>0</td>\n",
              "      <td>0</td>\n",
              "      <td>1</td>\n",
              "      <td>0</td>\n",
              "    </tr>\n",
              "    <tr>\n",
              "      <th>4</th>\n",
              "      <td>1</td>\n",
              "      <td>142590</td>\n",
              "      <td>1</td>\n",
              "      <td>1</td>\n",
              "      <td>0</td>\n",
              "      <td>0</td>\n",
              "      <td>1</td>\n",
              "      <td>0</td>\n",
              "      <td>0</td>\n",
              "      <td>0</td>\n",
              "      <td>...</td>\n",
              "      <td>0</td>\n",
              "      <td>0</td>\n",
              "      <td>1</td>\n",
              "      <td>0</td>\n",
              "      <td>0</td>\n",
              "      <td>0</td>\n",
              "      <td>0</td>\n",
              "      <td>0</td>\n",
              "      <td>1</td>\n",
              "      <td>0</td>\n",
              "    </tr>\n",
              "  </tbody>\n",
              "</table>\n",
              "<p>5 rows × 31 columns</p>\n",
              "</div>\n",
              "      <button class=\"colab-df-convert\" onclick=\"convertToInteractive('df-746998df-10ca-44bf-b827-6aa31671fb88')\"\n",
              "              title=\"Convert this dataframe to an interactive table.\"\n",
              "              style=\"display:none;\">\n",
              "        \n",
              "  <svg xmlns=\"http://www.w3.org/2000/svg\" height=\"24px\"viewBox=\"0 0 24 24\"\n",
              "       width=\"24px\">\n",
              "    <path d=\"M0 0h24v24H0V0z\" fill=\"none\"/>\n",
              "    <path d=\"M18.56 5.44l.94 2.06.94-2.06 2.06-.94-2.06-.94-.94-2.06-.94 2.06-2.06.94zm-11 1L8.5 8.5l.94-2.06 2.06-.94-2.06-.94L8.5 2.5l-.94 2.06-2.06.94zm10 10l.94 2.06.94-2.06 2.06-.94-2.06-.94-.94-2.06-.94 2.06-2.06.94z\"/><path d=\"M17.41 7.96l-1.37-1.37c-.4-.4-.92-.59-1.43-.59-.52 0-1.04.2-1.43.59L10.3 9.45l-7.72 7.72c-.78.78-.78 2.05 0 2.83L4 21.41c.39.39.9.59 1.41.59.51 0 1.02-.2 1.41-.59l7.78-7.78 2.81-2.81c.8-.78.8-2.07 0-2.86zM5.41 20L4 18.59l7.72-7.72 1.47 1.35L5.41 20z\"/>\n",
              "  </svg>\n",
              "      </button>\n",
              "      \n",
              "  <style>\n",
              "    .colab-df-container {\n",
              "      display:flex;\n",
              "      flex-wrap:wrap;\n",
              "      gap: 12px;\n",
              "    }\n",
              "\n",
              "    .colab-df-convert {\n",
              "      background-color: #E8F0FE;\n",
              "      border: none;\n",
              "      border-radius: 50%;\n",
              "      cursor: pointer;\n",
              "      display: none;\n",
              "      fill: #1967D2;\n",
              "      height: 32px;\n",
              "      padding: 0 0 0 0;\n",
              "      width: 32px;\n",
              "    }\n",
              "\n",
              "    .colab-df-convert:hover {\n",
              "      background-color: #E2EBFA;\n",
              "      box-shadow: 0px 1px 2px rgba(60, 64, 67, 0.3), 0px 1px 3px 1px rgba(60, 64, 67, 0.15);\n",
              "      fill: #174EA6;\n",
              "    }\n",
              "\n",
              "    [theme=dark] .colab-df-convert {\n",
              "      background-color: #3B4455;\n",
              "      fill: #D2E3FC;\n",
              "    }\n",
              "\n",
              "    [theme=dark] .colab-df-convert:hover {\n",
              "      background-color: #434B5C;\n",
              "      box-shadow: 0px 1px 3px 1px rgba(0, 0, 0, 0.15);\n",
              "      filter: drop-shadow(0px 1px 2px rgba(0, 0, 0, 0.3));\n",
              "      fill: #FFFFFF;\n",
              "    }\n",
              "  </style>\n",
              "\n",
              "      <script>\n",
              "        const buttonEl =\n",
              "          document.querySelector('#df-746998df-10ca-44bf-b827-6aa31671fb88 button.colab-df-convert');\n",
              "        buttonEl.style.display =\n",
              "          google.colab.kernel.accessAllowed ? 'block' : 'none';\n",
              "\n",
              "        async function convertToInteractive(key) {\n",
              "          const element = document.querySelector('#df-746998df-10ca-44bf-b827-6aa31671fb88');\n",
              "          const dataTable =\n",
              "            await google.colab.kernel.invokeFunction('convertToInteractive',\n",
              "                                                     [key], {});\n",
              "          if (!dataTable) return;\n",
              "\n",
              "          const docLinkHtml = 'Like what you see? Visit the ' +\n",
              "            '<a target=\"_blank\" href=https://colab.research.google.com/notebooks/data_table.ipynb>data table notebook</a>'\n",
              "            + ' to learn more about interactive tables.';\n",
              "          element.innerHTML = '';\n",
              "          dataTable['output_type'] = 'display_data';\n",
              "          await google.colab.output.renderOutput(dataTable, element);\n",
              "          const docLink = document.createElement('div');\n",
              "          docLink.innerHTML = docLinkHtml;\n",
              "          element.appendChild(docLink);\n",
              "        }\n",
              "      </script>\n",
              "    </div>\n",
              "  </div>\n",
              "  "
            ]
          },
          "metadata": {},
          "execution_count": 13
        }
      ],
      "source": [
        "# Convert categorical data to numeric with `pd.get_dummies`\n",
        "#pd.get_dummies(clean_df)\n",
        "clean_df = pd.get_dummies(clean_df)\n",
        "clean_df.head()"
      ]
    },
    {
      "cell_type": "code",
      "execution_count": 14,
      "metadata": {
        "id": "Dh0g2HOQmwiJ"
      },
      "outputs": [],
      "source": [
        "# Split our preprocessed data into our features and target arrays\n",
        "y = clean_df['IS_SUCCESSFUL'].values\n",
        "\n",
        "X = clean_df.drop('IS_SUCCESSFUL', axis=1).values\n",
        "\n",
        "\n",
        "# Split the preprocessed data into a training and testing dataset\n",
        "X_train, X_test, y_train, y_test = train_test_split(X, y, random_state=3) "
      ]
    },
    {
      "cell_type": "code",
      "execution_count": 15,
      "metadata": {
        "id": "uSpqq4ECmy7h"
      },
      "outputs": [],
      "source": [
        "# Create a StandardScaler instances\n",
        "scaler = StandardScaler()\n",
        "\n",
        "# Fit the StandardScaler\n",
        "X_scaler = scaler.fit(X_train)\n",
        "\n",
        "# Scale the data\n",
        "X_train_scaled = X_scaler.transform(X_train)\n",
        "X_test_scaled = X_scaler.transform(X_test)"
      ]
    },
    {
      "cell_type": "markdown",
      "metadata": {
        "id": "Zk5oLsHdm4vK"
      },
      "source": [
        "Compile, train and evaluate"
      ]
    },
    {
      "cell_type": "code",
      "execution_count": 16,
      "metadata": {
        "colab": {
          "base_uri": "https://localhost:8080/"
        },
        "id": "5yldGfVnm2qD",
        "outputId": "13029521-633b-48df-de84-11877d3c1d97"
      },
      "outputs": [
        {
          "output_type": "stream",
          "name": "stdout",
          "text": [
            "Model: \"sequential\"\n",
            "_________________________________________________________________\n",
            " Layer (type)                Output Shape              Param #   \n",
            "=================================================================\n",
            " dense (Dense)               (None, 3)                 93        \n",
            "                                                                 \n",
            " dense_1 (Dense)             (None, 4)                 16        \n",
            "                                                                 \n",
            " dense_2 (Dense)             (None, 1)                 5         \n",
            "                                                                 \n",
            "=================================================================\n",
            "Total params: 114\n",
            "Trainable params: 114\n",
            "Non-trainable params: 0\n",
            "_________________________________________________________________\n"
          ]
        }
      ],
      "source": [
        "# Define the model - deep neural net, i.e., the number of input features and hidden nodes for each layer.\n",
        "number_input_features = len( X_train_scaled[0])\n",
        "hidden_node_1 = 3\n",
        "hidden_node_2 = 4\n",
        "hidden_node_3 = 5\n",
        "nn = tf.keras.models.Sequential()\n",
        "\n",
        "# First hidden layer\n",
        "nn.add(tf.keras.layers.Dense(units=hidden_node_1, input_dim=number_input_features, activation='relu'))\n",
        "\n",
        "# Second hidden layer\n",
        "nn.add(tf.keras.layers.Dense(units=hidden_node_2, activation='relu'))\n",
        "\n",
        "# Output layer\n",
        "nn.add(tf.keras.layers.Dense(units=1, activation='sigmoid'))\n",
        "\n",
        "# Check the structure of the model\n",
        "nn.summary()"
      ]
    },
    {
      "cell_type": "code",
      "execution_count": 17,
      "metadata": {
        "id": "PtJ7UMHwm8Nb"
      },
      "outputs": [],
      "source": [
        "# Compile the model\n",
        "nn.compile(loss=\"binary_crossentropy\", optimizer=\"adam\", metrics=[\"accuracy\"])"
      ]
    },
    {
      "cell_type": "code",
      "execution_count": 18,
      "metadata": {
        "colab": {
          "base_uri": "https://localhost:8080/"
        },
        "id": "Tt1GR2gHnXwi",
        "outputId": "6c325b69-da5d-4df2-f90e-c125a41ac9ad"
      },
      "outputs": [
        {
          "output_type": "stream",
          "name": "stdout",
          "text": [
            "Epoch 1/100\n",
            "603/603 [==============================] - 4s 4ms/step - loss: 0.6561 - accuracy: 0.6542 - val_loss: 0.6266 - val_accuracy: 0.6647\n",
            "Epoch 2/100\n",
            "603/603 [==============================] - 3s 4ms/step - loss: 0.6211 - accuracy: 0.6916 - val_loss: 0.6137 - val_accuracy: 0.6932\n",
            "Epoch 3/100\n",
            "603/603 [==============================] - 2s 2ms/step - loss: 0.6114 - accuracy: 0.6969 - val_loss: 0.6115 - val_accuracy: 0.6943\n",
            "Epoch 4/100\n",
            "603/603 [==============================] - 1s 2ms/step - loss: 0.6082 - accuracy: 0.6981 - val_loss: 0.6105 - val_accuracy: 0.6943\n",
            "Epoch 5/100\n",
            "603/603 [==============================] - 1s 2ms/step - loss: 0.6062 - accuracy: 0.6989 - val_loss: 0.6094 - val_accuracy: 0.6948\n",
            "Epoch 6/100\n",
            "603/603 [==============================] - 1s 2ms/step - loss: 0.6055 - accuracy: 0.6989 - val_loss: 0.6088 - val_accuracy: 0.6941\n",
            "Epoch 7/100\n",
            "603/603 [==============================] - 1s 2ms/step - loss: 0.6051 - accuracy: 0.6992 - val_loss: 0.6082 - val_accuracy: 0.6941\n",
            "Epoch 8/100\n",
            "603/603 [==============================] - 2s 3ms/step - loss: 0.6043 - accuracy: 0.6990 - val_loss: 0.6078 - val_accuracy: 0.6944\n",
            "Epoch 9/100\n",
            "603/603 [==============================] - 2s 4ms/step - loss: 0.6036 - accuracy: 0.6989 - val_loss: 0.6077 - val_accuracy: 0.6941\n",
            "Epoch 10/100\n",
            "603/603 [==============================] - 3s 4ms/step - loss: 0.6021 - accuracy: 0.6996 - val_loss: 0.6062 - val_accuracy: 0.6948\n",
            "Epoch 11/100\n",
            "603/603 [==============================] - 2s 3ms/step - loss: 0.6009 - accuracy: 0.6990 - val_loss: 0.6050 - val_accuracy: 0.6951\n",
            "Epoch 12/100\n",
            "603/603 [==============================] - 1s 2ms/step - loss: 0.6002 - accuracy: 0.6997 - val_loss: 0.6044 - val_accuracy: 0.6940\n",
            "Epoch 13/100\n",
            "603/603 [==============================] - 1s 2ms/step - loss: 0.6002 - accuracy: 0.6985 - val_loss: 0.6058 - val_accuracy: 0.6944\n",
            "Epoch 14/100\n",
            "603/603 [==============================] - 1s 2ms/step - loss: 0.5999 - accuracy: 0.6991 - val_loss: 0.6049 - val_accuracy: 0.6941\n",
            "Epoch 15/100\n",
            "603/603 [==============================] - 2s 2ms/step - loss: 0.5998 - accuracy: 0.6997 - val_loss: 0.6044 - val_accuracy: 0.6944\n",
            "Epoch 16/100\n",
            "603/603 [==============================] - 2s 3ms/step - loss: 0.5995 - accuracy: 0.6992 - val_loss: 0.6056 - val_accuracy: 0.6920\n",
            "Epoch 17/100\n",
            "603/603 [==============================] - 2s 3ms/step - loss: 0.5997 - accuracy: 0.6982 - val_loss: 0.6043 - val_accuracy: 0.6930\n",
            "Epoch 18/100\n",
            "603/603 [==============================] - 2s 4ms/step - loss: 0.5995 - accuracy: 0.7003 - val_loss: 0.6043 - val_accuracy: 0.6940\n",
            "Epoch 19/100\n",
            "603/603 [==============================] - 2s 3ms/step - loss: 0.5993 - accuracy: 0.7004 - val_loss: 0.6049 - val_accuracy: 0.6940\n",
            "Epoch 20/100\n",
            "603/603 [==============================] - 1s 2ms/step - loss: 0.5993 - accuracy: 0.6999 - val_loss: 0.6045 - val_accuracy: 0.6927\n",
            "Epoch 21/100\n",
            "603/603 [==============================] - 1s 2ms/step - loss: 0.5992 - accuracy: 0.6997 - val_loss: 0.6040 - val_accuracy: 0.6932\n",
            "Epoch 22/100\n",
            "603/603 [==============================] - 1s 2ms/step - loss: 0.5990 - accuracy: 0.7003 - val_loss: 0.6041 - val_accuracy: 0.6941\n",
            "Epoch 23/100\n",
            "603/603 [==============================] - 1s 2ms/step - loss: 0.5992 - accuracy: 0.6991 - val_loss: 0.6042 - val_accuracy: 0.6937\n",
            "Epoch 24/100\n",
            "603/603 [==============================] - 2s 3ms/step - loss: 0.5990 - accuracy: 0.7002 - val_loss: 0.6044 - val_accuracy: 0.6932\n",
            "Epoch 25/100\n",
            "603/603 [==============================] - 1s 2ms/step - loss: 0.5989 - accuracy: 0.6999 - val_loss: 0.6050 - val_accuracy: 0.6899\n",
            "Epoch 26/100\n",
            "603/603 [==============================] - 2s 4ms/step - loss: 0.5991 - accuracy: 0.6984 - val_loss: 0.6041 - val_accuracy: 0.6938\n",
            "Epoch 27/100\n",
            "603/603 [==============================] - 2s 4ms/step - loss: 0.5991 - accuracy: 0.6991 - val_loss: 0.6036 - val_accuracy: 0.6937\n",
            "Epoch 28/100\n",
            "603/603 [==============================] - 1s 2ms/step - loss: 0.5990 - accuracy: 0.7000 - val_loss: 0.6041 - val_accuracy: 0.6930\n",
            "Epoch 29/100\n",
            "603/603 [==============================] - 1s 2ms/step - loss: 0.5988 - accuracy: 0.6982 - val_loss: 0.6043 - val_accuracy: 0.6923\n",
            "Epoch 30/100\n",
            "603/603 [==============================] - 2s 3ms/step - loss: 0.5990 - accuracy: 0.6995 - val_loss: 0.6038 - val_accuracy: 0.6932\n",
            "Epoch 31/100\n",
            "603/603 [==============================] - 1s 2ms/step - loss: 0.5987 - accuracy: 0.6999 - val_loss: 0.6044 - val_accuracy: 0.6927\n",
            "Epoch 32/100\n",
            "603/603 [==============================] - 2s 3ms/step - loss: 0.5988 - accuracy: 0.6985 - val_loss: 0.6036 - val_accuracy: 0.6941\n",
            "Epoch 33/100\n",
            "603/603 [==============================] - 2s 3ms/step - loss: 0.5987 - accuracy: 0.6998 - val_loss: 0.6035 - val_accuracy: 0.6940\n",
            "Epoch 34/100\n",
            "603/603 [==============================] - 2s 3ms/step - loss: 0.5987 - accuracy: 0.6992 - val_loss: 0.6033 - val_accuracy: 0.6940\n",
            "Epoch 35/100\n",
            "603/603 [==============================] - 2s 4ms/step - loss: 0.5986 - accuracy: 0.6995 - val_loss: 0.6033 - val_accuracy: 0.6932\n",
            "Epoch 36/100\n",
            "603/603 [==============================] - 2s 3ms/step - loss: 0.5985 - accuracy: 0.7005 - val_loss: 0.6025 - val_accuracy: 0.6935\n",
            "Epoch 37/100\n",
            "603/603 [==============================] - 1s 2ms/step - loss: 0.5985 - accuracy: 0.6997 - val_loss: 0.6027 - val_accuracy: 0.6940\n",
            "Epoch 38/100\n",
            "603/603 [==============================] - 1s 2ms/step - loss: 0.5985 - accuracy: 0.6995 - val_loss: 0.6026 - val_accuracy: 0.6927\n",
            "Epoch 39/100\n",
            "603/603 [==============================] - 1s 2ms/step - loss: 0.5984 - accuracy: 0.6995 - val_loss: 0.6022 - val_accuracy: 0.6932\n",
            "Epoch 40/100\n",
            "603/603 [==============================] - 1s 2ms/step - loss: 0.5986 - accuracy: 0.6996 - val_loss: 0.6032 - val_accuracy: 0.6929\n",
            "Epoch 41/100\n",
            "603/603 [==============================] - 1s 2ms/step - loss: 0.5987 - accuracy: 0.6993 - val_loss: 0.6036 - val_accuracy: 0.6934\n",
            "Epoch 42/100\n",
            "603/603 [==============================] - 2s 3ms/step - loss: 0.5986 - accuracy: 0.6993 - val_loss: 0.6025 - val_accuracy: 0.6941\n",
            "Epoch 43/100\n",
            "603/603 [==============================] - 2s 4ms/step - loss: 0.5986 - accuracy: 0.6996 - val_loss: 0.6042 - val_accuracy: 0.6932\n",
            "Epoch 44/100\n",
            "603/603 [==============================] - 3s 4ms/step - loss: 0.5986 - accuracy: 0.6995 - val_loss: 0.6032 - val_accuracy: 0.6930\n",
            "Epoch 45/100\n",
            "603/603 [==============================] - 2s 3ms/step - loss: 0.5987 - accuracy: 0.6993 - val_loss: 0.6034 - val_accuracy: 0.6929\n",
            "Epoch 46/100\n",
            "603/603 [==============================] - 1s 2ms/step - loss: 0.5985 - accuracy: 0.6996 - val_loss: 0.6035 - val_accuracy: 0.6946\n",
            "Epoch 47/100\n",
            "603/603 [==============================] - 1s 2ms/step - loss: 0.5986 - accuracy: 0.6986 - val_loss: 0.6033 - val_accuracy: 0.6940\n",
            "Epoch 48/100\n",
            "603/603 [==============================] - 2s 3ms/step - loss: 0.5986 - accuracy: 0.7006 - val_loss: 0.6027 - val_accuracy: 0.6932\n",
            "Epoch 49/100\n",
            "603/603 [==============================] - 1s 2ms/step - loss: 0.5987 - accuracy: 0.6994 - val_loss: 0.6036 - val_accuracy: 0.6929\n",
            "Epoch 50/100\n",
            "603/603 [==============================] - 2s 3ms/step - loss: 0.5984 - accuracy: 0.6999 - val_loss: 0.6061 - val_accuracy: 0.6920\n",
            "Epoch 51/100\n",
            "603/603 [==============================] - 2s 3ms/step - loss: 0.5987 - accuracy: 0.6995 - val_loss: 0.6035 - val_accuracy: 0.6930\n",
            "Epoch 52/100\n",
            "603/603 [==============================] - 3s 4ms/step - loss: 0.5986 - accuracy: 0.6997 - val_loss: 0.6028 - val_accuracy: 0.6934\n",
            "Epoch 53/100\n",
            "603/603 [==============================] - 2s 3ms/step - loss: 0.5985 - accuracy: 0.6993 - val_loss: 0.6029 - val_accuracy: 0.6934\n",
            "Epoch 54/100\n",
            "603/603 [==============================] - 2s 2ms/step - loss: 0.5985 - accuracy: 0.6990 - val_loss: 0.6045 - val_accuracy: 0.6926\n",
            "Epoch 55/100\n",
            "603/603 [==============================] - 1s 2ms/step - loss: 0.5986 - accuracy: 0.6998 - val_loss: 0.6033 - val_accuracy: 0.6935\n",
            "Epoch 56/100\n",
            "603/603 [==============================] - 2s 3ms/step - loss: 0.5985 - accuracy: 0.6991 - val_loss: 0.6042 - val_accuracy: 0.6924\n",
            "Epoch 57/100\n",
            "603/603 [==============================] - 1s 2ms/step - loss: 0.5986 - accuracy: 0.6991 - val_loss: 0.6034 - val_accuracy: 0.6929\n",
            "Epoch 58/100\n",
            "603/603 [==============================] - 2s 2ms/step - loss: 0.5985 - accuracy: 0.6999 - val_loss: 0.6024 - val_accuracy: 0.6937\n",
            "Epoch 59/100\n",
            "603/603 [==============================] - 1s 2ms/step - loss: 0.5986 - accuracy: 0.6989 - val_loss: 0.6039 - val_accuracy: 0.6930\n",
            "Epoch 60/100\n",
            "603/603 [==============================] - 2s 4ms/step - loss: 0.5987 - accuracy: 0.6998 - val_loss: 0.6027 - val_accuracy: 0.6935\n",
            "Epoch 61/100\n",
            "603/603 [==============================] - 2s 3ms/step - loss: 0.5986 - accuracy: 0.6991 - val_loss: 0.6028 - val_accuracy: 0.6929\n",
            "Epoch 62/100\n",
            "603/603 [==============================] - 2s 3ms/step - loss: 0.5985 - accuracy: 0.6990 - val_loss: 0.6048 - val_accuracy: 0.6929\n",
            "Epoch 63/100\n",
            "603/603 [==============================] - 1s 2ms/step - loss: 0.5986 - accuracy: 0.6992 - val_loss: 0.6031 - val_accuracy: 0.6930\n",
            "Epoch 64/100\n",
            "603/603 [==============================] - 2s 3ms/step - loss: 0.5983 - accuracy: 0.6992 - val_loss: 0.6022 - val_accuracy: 0.6930\n",
            "Epoch 65/100\n",
            "603/603 [==============================] - 1s 2ms/step - loss: 0.5983 - accuracy: 0.6992 - val_loss: 0.6034 - val_accuracy: 0.6930\n",
            "Epoch 66/100\n",
            "603/603 [==============================] - 2s 3ms/step - loss: 0.5984 - accuracy: 0.6991 - val_loss: 0.6026 - val_accuracy: 0.6927\n",
            "Epoch 67/100\n",
            "603/603 [==============================] - 1s 2ms/step - loss: 0.5981 - accuracy: 0.6999 - val_loss: 0.6032 - val_accuracy: 0.6946\n",
            "Epoch 68/100\n",
            "603/603 [==============================] - 2s 3ms/step - loss: 0.5984 - accuracy: 0.6991 - val_loss: 0.6026 - val_accuracy: 0.6930\n",
            "Epoch 69/100\n",
            "603/603 [==============================] - 3s 4ms/step - loss: 0.5984 - accuracy: 0.6992 - val_loss: 0.6032 - val_accuracy: 0.6929\n",
            "Epoch 70/100\n",
            "603/603 [==============================] - 2s 3ms/step - loss: 0.5983 - accuracy: 0.6997 - val_loss: 0.6025 - val_accuracy: 0.6943\n",
            "Epoch 71/100\n",
            "603/603 [==============================] - 2s 3ms/step - loss: 0.5984 - accuracy: 0.6998 - val_loss: 0.6021 - val_accuracy: 0.6934\n",
            "Epoch 72/100\n",
            "603/603 [==============================] - 2s 3ms/step - loss: 0.5984 - accuracy: 0.6994 - val_loss: 0.6020 - val_accuracy: 0.6937\n",
            "Epoch 73/100\n",
            "603/603 [==============================] - 2s 3ms/step - loss: 0.5987 - accuracy: 0.6981 - val_loss: 0.6032 - val_accuracy: 0.6932\n",
            "Epoch 74/100\n",
            "603/603 [==============================] - 2s 3ms/step - loss: 0.5983 - accuracy: 0.6989 - val_loss: 0.6051 - val_accuracy: 0.6921\n",
            "Epoch 75/100\n",
            "603/603 [==============================] - 2s 3ms/step - loss: 0.5985 - accuracy: 0.6996 - val_loss: 0.6026 - val_accuracy: 0.6932\n",
            "Epoch 76/100\n",
            "603/603 [==============================] - 2s 4ms/step - loss: 0.5984 - accuracy: 0.6994 - val_loss: 0.6030 - val_accuracy: 0.6934\n",
            "Epoch 77/100\n",
            "603/603 [==============================] - 2s 4ms/step - loss: 0.5985 - accuracy: 0.6993 - val_loss: 0.6028 - val_accuracy: 0.6932\n",
            "Epoch 78/100\n",
            "603/603 [==============================] - 2s 3ms/step - loss: 0.5986 - accuracy: 0.6991 - val_loss: 0.6033 - val_accuracy: 0.6946\n",
            "Epoch 79/100\n",
            "603/603 [==============================] - 2s 3ms/step - loss: 0.5984 - accuracy: 0.6997 - val_loss: 0.6030 - val_accuracy: 0.6932\n",
            "Epoch 80/100\n",
            "603/603 [==============================] - 2s 3ms/step - loss: 0.5984 - accuracy: 0.6991 - val_loss: 0.6026 - val_accuracy: 0.6940\n",
            "Epoch 81/100\n",
            "603/603 [==============================] - 1s 2ms/step - loss: 0.5983 - accuracy: 0.7000 - val_loss: 0.6030 - val_accuracy: 0.6932\n",
            "Epoch 82/100\n",
            "603/603 [==============================] - 1s 2ms/step - loss: 0.5985 - accuracy: 0.6986 - val_loss: 0.6027 - val_accuracy: 0.6941\n",
            "Epoch 83/100\n",
            "603/603 [==============================] - 2s 3ms/step - loss: 0.5984 - accuracy: 0.6991 - val_loss: 0.6053 - val_accuracy: 0.6923\n",
            "Epoch 84/100\n",
            "603/603 [==============================] - 2s 3ms/step - loss: 0.5985 - accuracy: 0.7004 - val_loss: 0.6032 - val_accuracy: 0.6932\n",
            "Epoch 85/100\n",
            "603/603 [==============================] - 2s 4ms/step - loss: 0.5983 - accuracy: 0.6996 - val_loss: 0.6037 - val_accuracy: 0.6932\n",
            "Epoch 86/100\n",
            "603/603 [==============================] - 2s 3ms/step - loss: 0.5984 - accuracy: 0.6997 - val_loss: 0.6037 - val_accuracy: 0.6929\n",
            "Epoch 87/100\n",
            "603/603 [==============================] - 2s 3ms/step - loss: 0.5984 - accuracy: 0.6996 - val_loss: 0.6035 - val_accuracy: 0.6930\n",
            "Epoch 88/100\n",
            "603/603 [==============================] - 2s 3ms/step - loss: 0.5981 - accuracy: 0.7010 - val_loss: 0.6025 - val_accuracy: 0.6934\n",
            "Epoch 89/100\n",
            "603/603 [==============================] - 3s 4ms/step - loss: 0.5983 - accuracy: 0.6993 - val_loss: 0.6033 - val_accuracy: 0.6935\n",
            "Epoch 90/100\n",
            "603/603 [==============================] - 2s 3ms/step - loss: 0.5984 - accuracy: 0.6995 - val_loss: 0.6027 - val_accuracy: 0.6929\n",
            "Epoch 91/100\n",
            "603/603 [==============================] - 2s 3ms/step - loss: 0.5982 - accuracy: 0.7002 - val_loss: 0.6041 - val_accuracy: 0.6899\n",
            "Epoch 92/100\n",
            "603/603 [==============================] - 2s 4ms/step - loss: 0.5983 - accuracy: 0.6997 - val_loss: 0.6028 - val_accuracy: 0.6923\n",
            "Epoch 93/100\n",
            "603/603 [==============================] - 2s 3ms/step - loss: 0.5981 - accuracy: 0.7007 - val_loss: 0.6025 - val_accuracy: 0.6932\n",
            "Epoch 94/100\n",
            "603/603 [==============================] - 1s 2ms/step - loss: 0.5983 - accuracy: 0.6995 - val_loss: 0.6032 - val_accuracy: 0.6930\n",
            "Epoch 95/100\n",
            "603/603 [==============================] - 2s 3ms/step - loss: 0.5981 - accuracy: 0.6997 - val_loss: 0.6031 - val_accuracy: 0.6929\n",
            "Epoch 96/100\n",
            "603/603 [==============================] - 2s 3ms/step - loss: 0.5982 - accuracy: 0.6997 - val_loss: 0.6031 - val_accuracy: 0.6924\n",
            "Epoch 97/100\n",
            "603/603 [==============================] - 2s 3ms/step - loss: 0.5981 - accuracy: 0.6991 - val_loss: 0.6024 - val_accuracy: 0.6932\n",
            "Epoch 98/100\n",
            "603/603 [==============================] - 2s 3ms/step - loss: 0.5983 - accuracy: 0.7005 - val_loss: 0.6047 - val_accuracy: 0.6921\n",
            "Epoch 99/100\n",
            "603/603 [==============================] - 2s 3ms/step - loss: 0.5982 - accuracy: 0.7002 - val_loss: 0.6022 - val_accuracy: 0.6935\n",
            "Epoch 100/100\n",
            "603/603 [==============================] - 3s 4ms/step - loss: 0.5982 - accuracy: 0.6995 - val_loss: 0.6026 - val_accuracy: 0.6941\n"
          ]
        }
      ],
      "source": [
        "# Train the model\n",
        "fit_model = nn.fit(X_train_scaled,y_train,validation_split=0.25, epochs=100)"
      ]
    },
    {
      "cell_type": "code",
      "execution_count": 19,
      "metadata": {
        "colab": {
          "base_uri": "https://localhost:8080/"
        },
        "id": "Imhk1oznnx0x",
        "outputId": "cfaf1453-5510-4fcc-fcc3-e46acfedc072"
      },
      "outputs": [
        {
          "output_type": "stream",
          "name": "stdout",
          "text": [
            "268/268 - 0s - loss: 0.6039 - accuracy: 0.6978 - 364ms/epoch - 1ms/step\n",
            "Loss: 0.6038862466812134, Accuracy: 0.697842538356781\n"
          ]
        }
      ],
      "source": [
        "# Evaluate the model using the test data\n",
        "model_loss, model_accuracy = nn.evaluate(X_test_scaled,y_test,verbose=2)\n",
        "print(f\"Loss: {model_loss}, Accuracy: {model_accuracy}\")"
      ]
    },
    {
      "cell_type": "code",
      "execution_count": 20,
      "metadata": {
        "id": "RKTVWq9pn4sn"
      },
      "outputs": [],
      "source": [
        "# Export our model to HDF5 file\n",
        "#from google.colab import files\n",
        "\n",
        "#nn.save('AlphabetSoupCharity.h5')\n",
        "#files.download('AlphabetSoupCharity.h5')"
      ]
    }
  ],
  "metadata": {
    "colab": {
      "provenance": [],
      "authorship_tag": "ABX9TyMtn+R1NA8k5MH0bSmNYyaO",
      "include_colab_link": true
    },
    "kernelspec": {
      "display_name": "Python 3",
      "name": "python3"
    },
    "language_info": {
      "name": "python"
    }
  },
  "nbformat": 4,
  "nbformat_minor": 0
}