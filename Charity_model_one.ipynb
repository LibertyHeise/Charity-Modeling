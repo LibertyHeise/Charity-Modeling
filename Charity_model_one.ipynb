{
  "cells": [
    {
      "cell_type": "markdown",
      "metadata": {
        "id": "view-in-github",
        "colab_type": "text"
      },
      "source": [
        "<a href=\"https://colab.research.google.com/github/LibertyHeise/deep-learning-challenge/blob/main/Charity_model_one.ipynb\" target=\"_parent\"><img src=\"https://colab.research.google.com/assets/colab-badge.svg\" alt=\"Open In Colab\"/></a>"
      ]
    },
    {
      "cell_type": "markdown",
      "metadata": {
        "id": "6vZBZhMSQWfC"
      },
      "source": [
        "## Preprocessing"
      ]
    },
    {
      "cell_type": "code",
      "execution_count": null,
      "metadata": {
        "id": "p9oQhwYRQWfD"
      },
      "outputs": [],
      "source": [
        "# Import our dependencies\n",
        "from sklearn.model_selection import train_test_split\n",
        "from sklearn.preprocessing import StandardScaler\n",
        "import pandas as pd\n",
        "import tensorflow as tf\n",
        "import matplotlib as plt\n",
        "import sklearn as skl\n",
        "import tensorflow as tf\n",
        "\n",
        "\n"
      ]
    },
    {
      "cell_type": "code",
      "source": [
        "from google.colab import drive\n",
        "drive.mount('/content/drive')\n",
        "\n",
        "application_df = pd.read_csv(\"/content/drive/MyDrive/ChariltyProj/charity_data.csv\")\n"
      ],
      "metadata": {
        "colab": {
          "base_uri": "https://localhost:8080/"
        },
        "id": "re0y07VsszVw",
        "outputId": "aaca216b-19d6-40e1-9f87-c17b7c5c3102"
      },
      "execution_count": null,
      "outputs": [
        {
          "output_type": "stream",
          "name": "stdout",
          "text": [
            "Drive already mounted at /content/drive; to attempt to forcibly remount, call drive.mount(\"/content/drive\", force_remount=True).\n"
          ]
        }
      ]
    },
    {
      "cell_type": "code",
      "execution_count": null,
      "metadata": {
        "id": "K8_HLXOkQWfF"
      },
      "outputs": [],
      "source": [
        "# Drop the non-beneficial ID columns, 'EIN' and 'NAME'.\n",
        "clean_df = application_df.drop(columns=['EIN','NAME'])\n"
      ]
    },
    {
      "cell_type": "code",
      "execution_count": null,
      "metadata": {
        "colab": {
          "base_uri": "https://localhost:8080/"
        },
        "id": "cTRg1NnmQWfF",
        "outputId": "69f1c6d4-02a6-4387-f3dd-ac93aac166e0"
      },
      "outputs": [
        {
          "output_type": "stream",
          "name": "stdout",
          "text": [
            "APPLICATION_TYPE          0\n",
            "AFFILIATION               0\n",
            "CLASSIFICATION            0\n",
            "USE_CASE                  0\n",
            "ORGANIZATION              0\n",
            "STATUS                    0\n",
            "INCOME_AMT                0\n",
            "SPECIAL_CONSIDERATIONS    0\n",
            "ASK_AMT                   0\n",
            "IS_SUCCESSFUL             0\n",
            "dtype: int64\n"
          ]
        },
        {
          "output_type": "execute_result",
          "data": {
            "text/plain": [
              "APPLICATION_TYPE            17\n",
              "AFFILIATION                  6\n",
              "CLASSIFICATION              71\n",
              "USE_CASE                     5\n",
              "ORGANIZATION                 4\n",
              "STATUS                       2\n",
              "INCOME_AMT                   9\n",
              "SPECIAL_CONSIDERATIONS       2\n",
              "ASK_AMT                   8747\n",
              "IS_SUCCESSFUL                2\n",
              "dtype: int64"
            ]
          },
          "metadata": {},
          "execution_count": 104
        }
      ],
      "source": [
        "# Determine the number of unique values in each column.\n",
        "print(clean_df.isnull().sum())\n",
        "clean_df.nunique()"
      ]
    },
    {
      "cell_type": "code",
      "execution_count": null,
      "metadata": {
        "colab": {
          "base_uri": "https://localhost:8080/"
        },
        "id": "lEsa5ZS4QWfG",
        "outputId": "5c35a0ba-0830-45a8-d257-2a5cb2b77c2e"
      },
      "outputs": [
        {
          "output_type": "execute_result",
          "data": {
            "text/plain": [
              "(34299, 10)"
            ]
          },
          "metadata": {},
          "execution_count": 105
        }
      ],
      "source": [
        "clean_df.shape"
      ]
    },
    {
      "cell_type": "code",
      "execution_count": null,
      "metadata": {
        "colab": {
          "base_uri": "https://localhost:8080/"
        },
        "id": "19r2uwSpQWfG",
        "outputId": "0a8d7358-c2e6-46af-86d2-c9144d5a91f3"
      },
      "outputs": [
        {
          "output_type": "execute_result",
          "data": {
            "text/plain": [
              "Index(['APPLICATION_TYPE', 'AFFILIATION', 'CLASSIFICATION', 'USE_CASE',\n",
              "       'ORGANIZATION', 'STATUS', 'INCOME_AMT', 'SPECIAL_CONSIDERATIONS',\n",
              "       'ASK_AMT', 'IS_SUCCESSFUL'],\n",
              "      dtype='object')"
            ]
          },
          "metadata": {},
          "execution_count": 106
        }
      ],
      "source": [
        "clean_df.columns"
      ]
    },
    {
      "cell_type": "code",
      "execution_count": null,
      "metadata": {
        "colab": {
          "base_uri": "https://localhost:8080/"
        },
        "id": "MuCmiWcqQWfG",
        "outputId": "4dec3e4d-7071-4ac6-bf30-c3c1f849645a"
      },
      "outputs": [
        {
          "output_type": "execute_result",
          "data": {
            "text/plain": [
              "T3     27037\n",
              "T4      1542\n",
              "T6      1216\n",
              "T5      1173\n",
              "T19     1065\n",
              "T8       737\n",
              "T7       725\n",
              "T10      528\n",
              "T9       156\n",
              "T13       66\n",
              "T12       27\n",
              "T2        16\n",
              "T25        3\n",
              "T14        3\n",
              "T29        2\n",
              "T15        2\n",
              "T17        1\n",
              "Name: APPLICATION_TYPE, dtype: int64"
            ]
          },
          "metadata": {},
          "execution_count": 107
        }
      ],
      "source": [
        "# Look at APPLICATION_TYPE value counts for binning\n",
        "at_vc_s = clean_df['APPLICATION_TYPE'].value_counts()\n",
        "at_vc_s"
      ]
    },
    {
      "cell_type": "code",
      "execution_count": null,
      "metadata": {
        "colab": {
          "base_uri": "https://localhost:8080/"
        },
        "id": "QCEh8xLsQWfG",
        "outputId": "4223b03b-4f9e-4b9e-aa08-8d5c964ab338"
      },
      "outputs": [
        {
          "output_type": "execute_result",
          "data": {
            "text/plain": [
              "Other    34299\n",
              "Name: APPLICATION_TYPE, dtype: int64"
            ]
          },
          "metadata": {},
          "execution_count": 108
        }
      ],
      "source": [
        "# Choose a cutoff value and create a list of application types to be replaced\n",
        "\n",
        "APP_TYPE_COUNT_CUTOFF = 100\n",
        "app_type_below_cutoff_s = at_vc_s < APP_TYPE_COUNT_CUTOFF\n",
        "#print(app_type_below_cutoff_s)\n",
        "\n",
        "# use the variable name `application_types_to_replace`\n",
        "application_types_to_replace = at_vc_s[app_type_below_cutoff_s<100].index\n",
        "\n",
        "# Replace in dataframe\n",
        "for app in application_types_to_replace:\n",
        "    clean_df['APPLICATION_TYPE'] = clean_df['APPLICATION_TYPE'].replace(app,\"Other\")\n",
        "\n",
        "# Check to make sure binning was successful\n",
        "clean_df['APPLICATION_TYPE'].value_counts()"
      ]
    },
    {
      "cell_type": "code",
      "execution_count": null,
      "metadata": {
        "colab": {
          "base_uri": "https://localhost:8080/"
        },
        "id": "WAMjq0hMQWfG",
        "outputId": "a593a622-4865-40f2-c3b6-3175a24e45d7"
      },
      "outputs": [
        {
          "output_type": "execute_result",
          "data": {
            "text/plain": [
              "C1000    17326\n",
              "C2000     6074\n",
              "C1200     4837\n",
              "C3000     1918\n",
              "C2100     1883\n",
              "         ...  \n",
              "C4120        1\n",
              "C8210        1\n",
              "C2561        1\n",
              "C4500        1\n",
              "C2150        1\n",
              "Name: CLASSIFICATION, Length: 71, dtype: int64"
            ]
          },
          "metadata": {},
          "execution_count": 109
        }
      ],
      "source": [
        "# Look at CLASSIFICATION value counts for binning\n",
        "class_binning_s = clean_df['CLASSIFICATION'].value_counts()\n",
        "class_binning_s"
      ]
    },
    {
      "cell_type": "code",
      "execution_count": null,
      "metadata": {
        "colab": {
          "base_uri": "https://localhost:8080/"
        },
        "id": "0-8MhPp8QWfH",
        "outputId": "e87f29d3-bd57-4cea-d827-8cc32e4fbaf4"
      },
      "outputs": [
        {
          "output_type": "execute_result",
          "data": {
            "text/plain": [
              "C1000    17326\n",
              "C2000     6074\n",
              "C1200     4837\n",
              "C3000     1918\n",
              "C2100     1883\n",
              "C7000      777\n",
              "C1700      287\n",
              "C4000      194\n",
              "C5000      116\n",
              "C1270      114\n",
              "C2700      104\n",
              "C2800       95\n",
              "C7100       75\n",
              "C1300       58\n",
              "C1280       50\n",
              "C1230       36\n",
              "C1400       34\n",
              "C7200       32\n",
              "C2300       32\n",
              "C1240       30\n",
              "C8000       20\n",
              "C7120       18\n",
              "C1500       16\n",
              "C1800       15\n",
              "C6000       15\n",
              "C1250       14\n",
              "C8200       11\n",
              "C1238       10\n",
              "C1278       10\n",
              "C1235        9\n",
              "C1237        9\n",
              "C7210        7\n",
              "C2400        6\n",
              "C1720        6\n",
              "C4100        6\n",
              "C1257        5\n",
              "C1600        5\n",
              "C1260        3\n",
              "C2710        3\n",
              "C0           3\n",
              "C3200        2\n",
              "C1234        2\n",
              "C1246        2\n",
              "C1267        2\n",
              "C1256        2\n",
              "Name: CLASSIFICATION, dtype: int64"
            ]
          },
          "metadata": {},
          "execution_count": 110
        }
      ],
      "source": [
        "# You may find it helpful to look at CLASSIFICATION value counts >1\n",
        "counts_class = class_binning_s[class_binning_s>1]\n",
        "counts_class\n"
      ]
    },
    {
      "cell_type": "code",
      "execution_count": null,
      "metadata": {
        "colab": {
          "base_uri": "https://localhost:8080/"
        },
        "id": "q6pNqfnZQWfH",
        "outputId": "171301a5-6d77-4a07-8a0e-f10c0ba8eb57"
      },
      "outputs": [
        {
          "output_type": "execute_result",
          "data": {
            "text/plain": [
              "C1000    17326\n",
              "C2000     6074\n",
              "C1200     4837\n",
              "C3000     1918\n",
              "C2100     1883\n",
              "C7000      777\n",
              "Other      669\n",
              "C1700      287\n",
              "C4000      194\n",
              "C5000      116\n",
              "C1270      114\n",
              "C2700      104\n",
              "Name: CLASSIFICATION, dtype: int64"
            ]
          },
          "metadata": {},
          "execution_count": 115
        }
      ],
      "source": [
        "# Choose a cutoff value and create a list of classifications to be replaced\n",
        "# use the variable name `classifications_to_replace`\n",
        "\n",
        "classifications_to_replace = list (class_binning_s[class_binning_s<100].index)\n",
        "classifications_to_replace\n",
        "\n",
        "# Replace in dataframe\n",
        "for cls in classifications_to_replace:\n",
        "    clean_df['CLASSIFICATION'] = clean_df['CLASSIFICATION'].replace(cls,\"Other\")\n",
        "    \n",
        "# Check to make sure binning was successful\n",
        "clean_df['CLASSIFICATION'].value_counts()"
      ]
    },
    {
      "cell_type": "code",
      "execution_count": null,
      "metadata": {
        "colab": {
          "base_uri": "https://localhost:8080/",
          "height": 317
        },
        "id": "atDWQsfLQWfH",
        "outputId": "18715fb0-daeb-4473-ba86-c6ccf0f9afc3"
      },
      "outputs": [
        {
          "output_type": "execute_result",
          "data": {
            "text/plain": [
              "   STATUS  ASK_AMT  IS_SUCCESSFUL  APPLICATION_TYPE_Other  \\\n",
              "0       1     5000              1                       1   \n",
              "1       1   108590              1                       1   \n",
              "2       1     5000              0                       1   \n",
              "3       1     6692              1                       1   \n",
              "4       1   142590              1                       1   \n",
              "\n",
              "   AFFILIATION_CompanySponsored  AFFILIATION_Family/Parent  \\\n",
              "0                             0                          0   \n",
              "1                             0                          0   \n",
              "2                             1                          0   \n",
              "3                             1                          0   \n",
              "4                             0                          0   \n",
              "\n",
              "   AFFILIATION_Independent  AFFILIATION_National  AFFILIATION_Other  \\\n",
              "0                        1                     0                  0   \n",
              "1                        1                     0                  0   \n",
              "2                        0                     0                  0   \n",
              "3                        0                     0                  0   \n",
              "4                        1                     0                  0   \n",
              "\n",
              "   AFFILIATION_Regional  ...  INCOME_AMT_1-9999  INCOME_AMT_10000-24999  \\\n",
              "0                     0  ...                  0                       0   \n",
              "1                     0  ...                  1                       0   \n",
              "2                     0  ...                  0                       0   \n",
              "3                     0  ...                  0                       1   \n",
              "4                     0  ...                  0                       0   \n",
              "\n",
              "   INCOME_AMT_100000-499999  INCOME_AMT_10M-50M  INCOME_AMT_1M-5M  \\\n",
              "0                         0                   0                 0   \n",
              "1                         0                   0                 0   \n",
              "2                         0                   0                 0   \n",
              "3                         0                   0                 0   \n",
              "4                         1                   0                 0   \n",
              "\n",
              "   INCOME_AMT_25000-99999  INCOME_AMT_50M+  INCOME_AMT_5M-10M  \\\n",
              "0                       0                0                  0   \n",
              "1                       0                0                  0   \n",
              "2                       0                0                  0   \n",
              "3                       0                0                  0   \n",
              "4                       0                0                  0   \n",
              "\n",
              "   SPECIAL_CONSIDERATIONS_N  SPECIAL_CONSIDERATIONS_Y  \n",
              "0                         1                         0  \n",
              "1                         1                         0  \n",
              "2                         1                         0  \n",
              "3                         1                         0  \n",
              "4                         1                         0  \n",
              "\n",
              "[5 rows x 42 columns]"
            ],
            "text/html": [
              "\n",
              "  <div id=\"df-c1c7b12b-6ca0-4489-9ad1-325a14c70d92\">\n",
              "    <div class=\"colab-df-container\">\n",
              "      <div>\n",
              "<style scoped>\n",
              "    .dataframe tbody tr th:only-of-type {\n",
              "        vertical-align: middle;\n",
              "    }\n",
              "\n",
              "    .dataframe tbody tr th {\n",
              "        vertical-align: top;\n",
              "    }\n",
              "\n",
              "    .dataframe thead th {\n",
              "        text-align: right;\n",
              "    }\n",
              "</style>\n",
              "<table border=\"1\" class=\"dataframe\">\n",
              "  <thead>\n",
              "    <tr style=\"text-align: right;\">\n",
              "      <th></th>\n",
              "      <th>STATUS</th>\n",
              "      <th>ASK_AMT</th>\n",
              "      <th>IS_SUCCESSFUL</th>\n",
              "      <th>APPLICATION_TYPE_Other</th>\n",
              "      <th>AFFILIATION_CompanySponsored</th>\n",
              "      <th>AFFILIATION_Family/Parent</th>\n",
              "      <th>AFFILIATION_Independent</th>\n",
              "      <th>AFFILIATION_National</th>\n",
              "      <th>AFFILIATION_Other</th>\n",
              "      <th>AFFILIATION_Regional</th>\n",
              "      <th>...</th>\n",
              "      <th>INCOME_AMT_1-9999</th>\n",
              "      <th>INCOME_AMT_10000-24999</th>\n",
              "      <th>INCOME_AMT_100000-499999</th>\n",
              "      <th>INCOME_AMT_10M-50M</th>\n",
              "      <th>INCOME_AMT_1M-5M</th>\n",
              "      <th>INCOME_AMT_25000-99999</th>\n",
              "      <th>INCOME_AMT_50M+</th>\n",
              "      <th>INCOME_AMT_5M-10M</th>\n",
              "      <th>SPECIAL_CONSIDERATIONS_N</th>\n",
              "      <th>SPECIAL_CONSIDERATIONS_Y</th>\n",
              "    </tr>\n",
              "  </thead>\n",
              "  <tbody>\n",
              "    <tr>\n",
              "      <th>0</th>\n",
              "      <td>1</td>\n",
              "      <td>5000</td>\n",
              "      <td>1</td>\n",
              "      <td>1</td>\n",
              "      <td>0</td>\n",
              "      <td>0</td>\n",
              "      <td>1</td>\n",
              "      <td>0</td>\n",
              "      <td>0</td>\n",
              "      <td>0</td>\n",
              "      <td>...</td>\n",
              "      <td>0</td>\n",
              "      <td>0</td>\n",
              "      <td>0</td>\n",
              "      <td>0</td>\n",
              "      <td>0</td>\n",
              "      <td>0</td>\n",
              "      <td>0</td>\n",
              "      <td>0</td>\n",
              "      <td>1</td>\n",
              "      <td>0</td>\n",
              "    </tr>\n",
              "    <tr>\n",
              "      <th>1</th>\n",
              "      <td>1</td>\n",
              "      <td>108590</td>\n",
              "      <td>1</td>\n",
              "      <td>1</td>\n",
              "      <td>0</td>\n",
              "      <td>0</td>\n",
              "      <td>1</td>\n",
              "      <td>0</td>\n",
              "      <td>0</td>\n",
              "      <td>0</td>\n",
              "      <td>...</td>\n",
              "      <td>1</td>\n",
              "      <td>0</td>\n",
              "      <td>0</td>\n",
              "      <td>0</td>\n",
              "      <td>0</td>\n",
              "      <td>0</td>\n",
              "      <td>0</td>\n",
              "      <td>0</td>\n",
              "      <td>1</td>\n",
              "      <td>0</td>\n",
              "    </tr>\n",
              "    <tr>\n",
              "      <th>2</th>\n",
              "      <td>1</td>\n",
              "      <td>5000</td>\n",
              "      <td>0</td>\n",
              "      <td>1</td>\n",
              "      <td>1</td>\n",
              "      <td>0</td>\n",
              "      <td>0</td>\n",
              "      <td>0</td>\n",
              "      <td>0</td>\n",
              "      <td>0</td>\n",
              "      <td>...</td>\n",
              "      <td>0</td>\n",
              "      <td>0</td>\n",
              "      <td>0</td>\n",
              "      <td>0</td>\n",
              "      <td>0</td>\n",
              "      <td>0</td>\n",
              "      <td>0</td>\n",
              "      <td>0</td>\n",
              "      <td>1</td>\n",
              "      <td>0</td>\n",
              "    </tr>\n",
              "    <tr>\n",
              "      <th>3</th>\n",
              "      <td>1</td>\n",
              "      <td>6692</td>\n",
              "      <td>1</td>\n",
              "      <td>1</td>\n",
              "      <td>1</td>\n",
              "      <td>0</td>\n",
              "      <td>0</td>\n",
              "      <td>0</td>\n",
              "      <td>0</td>\n",
              "      <td>0</td>\n",
              "      <td>...</td>\n",
              "      <td>0</td>\n",
              "      <td>1</td>\n",
              "      <td>0</td>\n",
              "      <td>0</td>\n",
              "      <td>0</td>\n",
              "      <td>0</td>\n",
              "      <td>0</td>\n",
              "      <td>0</td>\n",
              "      <td>1</td>\n",
              "      <td>0</td>\n",
              "    </tr>\n",
              "    <tr>\n",
              "      <th>4</th>\n",
              "      <td>1</td>\n",
              "      <td>142590</td>\n",
              "      <td>1</td>\n",
              "      <td>1</td>\n",
              "      <td>0</td>\n",
              "      <td>0</td>\n",
              "      <td>1</td>\n",
              "      <td>0</td>\n",
              "      <td>0</td>\n",
              "      <td>0</td>\n",
              "      <td>...</td>\n",
              "      <td>0</td>\n",
              "      <td>0</td>\n",
              "      <td>1</td>\n",
              "      <td>0</td>\n",
              "      <td>0</td>\n",
              "      <td>0</td>\n",
              "      <td>0</td>\n",
              "      <td>0</td>\n",
              "      <td>1</td>\n",
              "      <td>0</td>\n",
              "    </tr>\n",
              "  </tbody>\n",
              "</table>\n",
              "<p>5 rows × 42 columns</p>\n",
              "</div>\n",
              "      <button class=\"colab-df-convert\" onclick=\"convertToInteractive('df-c1c7b12b-6ca0-4489-9ad1-325a14c70d92')\"\n",
              "              title=\"Convert this dataframe to an interactive table.\"\n",
              "              style=\"display:none;\">\n",
              "        \n",
              "  <svg xmlns=\"http://www.w3.org/2000/svg\" height=\"24px\"viewBox=\"0 0 24 24\"\n",
              "       width=\"24px\">\n",
              "    <path d=\"M0 0h24v24H0V0z\" fill=\"none\"/>\n",
              "    <path d=\"M18.56 5.44l.94 2.06.94-2.06 2.06-.94-2.06-.94-.94-2.06-.94 2.06-2.06.94zm-11 1L8.5 8.5l.94-2.06 2.06-.94-2.06-.94L8.5 2.5l-.94 2.06-2.06.94zm10 10l.94 2.06.94-2.06 2.06-.94-2.06-.94-.94-2.06-.94 2.06-2.06.94z\"/><path d=\"M17.41 7.96l-1.37-1.37c-.4-.4-.92-.59-1.43-.59-.52 0-1.04.2-1.43.59L10.3 9.45l-7.72 7.72c-.78.78-.78 2.05 0 2.83L4 21.41c.39.39.9.59 1.41.59.51 0 1.02-.2 1.41-.59l7.78-7.78 2.81-2.81c.8-.78.8-2.07 0-2.86zM5.41 20L4 18.59l7.72-7.72 1.47 1.35L5.41 20z\"/>\n",
              "  </svg>\n",
              "      </button>\n",
              "      \n",
              "  <style>\n",
              "    .colab-df-container {\n",
              "      display:flex;\n",
              "      flex-wrap:wrap;\n",
              "      gap: 12px;\n",
              "    }\n",
              "\n",
              "    .colab-df-convert {\n",
              "      background-color: #E8F0FE;\n",
              "      border: none;\n",
              "      border-radius: 50%;\n",
              "      cursor: pointer;\n",
              "      display: none;\n",
              "      fill: #1967D2;\n",
              "      height: 32px;\n",
              "      padding: 0 0 0 0;\n",
              "      width: 32px;\n",
              "    }\n",
              "\n",
              "    .colab-df-convert:hover {\n",
              "      background-color: #E2EBFA;\n",
              "      box-shadow: 0px 1px 2px rgba(60, 64, 67, 0.3), 0px 1px 3px 1px rgba(60, 64, 67, 0.15);\n",
              "      fill: #174EA6;\n",
              "    }\n",
              "\n",
              "    [theme=dark] .colab-df-convert {\n",
              "      background-color: #3B4455;\n",
              "      fill: #D2E3FC;\n",
              "    }\n",
              "\n",
              "    [theme=dark] .colab-df-convert:hover {\n",
              "      background-color: #434B5C;\n",
              "      box-shadow: 0px 1px 3px 1px rgba(0, 0, 0, 0.15);\n",
              "      filter: drop-shadow(0px 1px 2px rgba(0, 0, 0, 0.3));\n",
              "      fill: #FFFFFF;\n",
              "    }\n",
              "  </style>\n",
              "\n",
              "      <script>\n",
              "        const buttonEl =\n",
              "          document.querySelector('#df-c1c7b12b-6ca0-4489-9ad1-325a14c70d92 button.colab-df-convert');\n",
              "        buttonEl.style.display =\n",
              "          google.colab.kernel.accessAllowed ? 'block' : 'none';\n",
              "\n",
              "        async function convertToInteractive(key) {\n",
              "          const element = document.querySelector('#df-c1c7b12b-6ca0-4489-9ad1-325a14c70d92');\n",
              "          const dataTable =\n",
              "            await google.colab.kernel.invokeFunction('convertToInteractive',\n",
              "                                                     [key], {});\n",
              "          if (!dataTable) return;\n",
              "\n",
              "          const docLinkHtml = 'Like what you see? Visit the ' +\n",
              "            '<a target=\"_blank\" href=https://colab.research.google.com/notebooks/data_table.ipynb>data table notebook</a>'\n",
              "            + ' to learn more about interactive tables.';\n",
              "          element.innerHTML = '';\n",
              "          dataTable['output_type'] = 'display_data';\n",
              "          await google.colab.output.renderOutput(dataTable, element);\n",
              "          const docLink = document.createElement('div');\n",
              "          docLink.innerHTML = docLinkHtml;\n",
              "          element.appendChild(docLink);\n",
              "        }\n",
              "      </script>\n",
              "    </div>\n",
              "  </div>\n",
              "  "
            ]
          },
          "metadata": {},
          "execution_count": 116
        }
      ],
      "source": [
        "# Convert categorical data to numeric with `pd.get_dummies`\n",
        "#pd.get_dummies(clean_df)\n",
        "clean_df = pd.get_dummies(clean_df)\n",
        "clean_df.head()"
      ]
    },
    {
      "cell_type": "code",
      "execution_count": null,
      "metadata": {
        "id": "oAKDkWoQQWfH"
      },
      "outputs": [],
      "source": [
        "# Split our preprocessed data into our features and target arrays\n",
        "y = clean_df['IS_SUCCESSFUL'].values\n",
        "\n",
        "X = clean_df.drop('IS_SUCCESSFUL', axis=1).values\n",
        "\n",
        "\n",
        "# Split the preprocessed data into a training and testing dataset\n",
        "X_train, X_test, y_train, y_test = train_test_split(X, y, random_state=42) "
      ]
    },
    {
      "cell_type": "code",
      "execution_count": null,
      "metadata": {
        "id": "ugK4rVZZQWfI"
      },
      "outputs": [],
      "source": [
        "# Create a StandardScaler instances\n",
        "scaler = StandardScaler()\n",
        "\n",
        "# Fit the StandardScaler\n",
        "X_scaler = scaler.fit(X_train)\n",
        "\n",
        "# Scale the data\n",
        "X_train_scaled = X_scaler.transform(X_train)\n",
        "X_test_scaled = X_scaler.transform(X_test)"
      ]
    },
    {
      "cell_type": "markdown",
      "metadata": {
        "id": "k2D-nYsIQWfI"
      },
      "source": [
        "## Compile, Train and Evaluate the Model"
      ]
    },
    {
      "cell_type": "code",
      "execution_count": null,
      "metadata": {
        "id": "5G-NE8oqQWfI",
        "outputId": "c8dd38c1-9fd9-47cc-de68-6cb7cb8358d7",
        "colab": {
          "base_uri": "https://localhost:8080/"
        }
      },
      "outputs": [
        {
          "output_type": "stream",
          "name": "stdout",
          "text": [
            "Model: \"sequential_3\"\n",
            "_________________________________________________________________\n",
            " Layer (type)                Output Shape              Param #   \n",
            "=================================================================\n",
            " dense_6 (Dense)             (None, 7)                 294       \n",
            "                                                                 \n",
            " dense_7 (Dense)             (None, 14)                112       \n",
            "                                                                 \n",
            " dense_8 (Dense)             (None, 1)                 15        \n",
            "                                                                 \n",
            "=================================================================\n",
            "Total params: 421\n",
            "Trainable params: 421\n",
            "Non-trainable params: 0\n",
            "_________________________________________________________________\n"
          ]
        }
      ],
      "source": [
        "# Define the model - deep neural net, i.e., the number of input features and hidden nodes for each layer.\n",
        "number_input_features = len( X_train_scaled[0])\n",
        "hidden_node_1 = 7\n",
        "hidden_node_2 = 14\n",
        "hidden_node_3 = 21\n",
        "nn = tf.keras.models.Sequential()\n",
        "\n",
        "# First hidden layer\n",
        "nn.add(tf.keras.layers.Dense(units=hidden_node_1, input_dim=number_input_features, activation='relu'))\n",
        "\n",
        "# Second hidden layer\n",
        "nn.add(tf.keras.layers.Dense(units=hidden_node_2, activation='relu'))\n",
        "\n",
        "# Output layer\n",
        "nn.add(tf.keras.layers.Dense(units=1, activation='sigmoid'))\n",
        "\n",
        "# Check the structure of the model\n",
        "nn.summary()"
      ]
    },
    {
      "cell_type": "code",
      "execution_count": null,
      "metadata": {
        "id": "1XsqhdC0QWfI"
      },
      "outputs": [],
      "source": [
        "# Compile the model\n",
        "nn.compile(loss=\"binary_crossentropy\", optimizer=\"adam\", metrics=[\"accuracy\"])"
      ]
    },
    {
      "cell_type": "code",
      "execution_count": null,
      "metadata": {
        "id": "pbkwXFAzQWfI",
        "outputId": "721531e6-9aee-4ecd-8c3c-c365d0589d7d",
        "colab": {
          "base_uri": "https://localhost:8080/"
        }
      },
      "outputs": [
        {
          "output_type": "stream",
          "name": "stdout",
          "text": [
            "Epoch 1/100\n",
            "684/684 [==============================] - 3s 2ms/step - loss: 0.6484 - accuracy: 0.6402 - val_loss: 0.5927 - val_accuracy: 0.7095\n",
            "Epoch 2/100\n",
            "684/684 [==============================] - 88s 129ms/step - loss: 0.5967 - accuracy: 0.6956 - val_loss: 0.5786 - val_accuracy: 0.7087\n",
            "Epoch 3/100\n",
            "684/684 [==============================] - 2s 3ms/step - loss: 0.5902 - accuracy: 0.6954 - val_loss: 0.5747 - val_accuracy: 0.7090\n",
            "Epoch 4/100\n",
            "684/684 [==============================] - 2s 3ms/step - loss: 0.5875 - accuracy: 0.6977 - val_loss: 0.5731 - val_accuracy: 0.7048\n",
            "Epoch 5/100\n",
            "684/684 [==============================] - 1s 2ms/step - loss: 0.5856 - accuracy: 0.6984 - val_loss: 0.5736 - val_accuracy: 0.7004\n",
            "Epoch 6/100\n",
            "684/684 [==============================] - 1s 2ms/step - loss: 0.5846 - accuracy: 0.6986 - val_loss: 0.5734 - val_accuracy: 0.6986\n",
            "Epoch 7/100\n",
            "684/684 [==============================] - 1s 2ms/step - loss: 0.5832 - accuracy: 0.6996 - val_loss: 0.5717 - val_accuracy: 0.7072\n",
            "Epoch 8/100\n",
            "684/684 [==============================] - 2s 2ms/step - loss: 0.5824 - accuracy: 0.7007 - val_loss: 0.5708 - val_accuracy: 0.7095\n",
            "Epoch 9/100\n",
            "684/684 [==============================] - 1s 2ms/step - loss: 0.5819 - accuracy: 0.7010 - val_loss: 0.5716 - val_accuracy: 0.7103\n",
            "Epoch 10/100\n",
            "684/684 [==============================] - 1s 2ms/step - loss: 0.5808 - accuracy: 0.7033 - val_loss: 0.5708 - val_accuracy: 0.7090\n",
            "Epoch 11/100\n",
            "684/684 [==============================] - 2s 3ms/step - loss: 0.5803 - accuracy: 0.7041 - val_loss: 0.5715 - val_accuracy: 0.7103\n",
            "Epoch 12/100\n",
            "684/684 [==============================] - 2s 3ms/step - loss: 0.5797 - accuracy: 0.7026 - val_loss: 0.5702 - val_accuracy: 0.7048\n",
            "Epoch 13/100\n",
            "684/684 [==============================] - 1s 2ms/step - loss: 0.5793 - accuracy: 0.7027 - val_loss: 0.5709 - val_accuracy: 0.7100\n",
            "Epoch 14/100\n",
            "684/684 [==============================] - 1s 2ms/step - loss: 0.5786 - accuracy: 0.7047 - val_loss: 0.5697 - val_accuracy: 0.7087\n",
            "Epoch 15/100\n",
            "684/684 [==============================] - 1s 2ms/step - loss: 0.5781 - accuracy: 0.7043 - val_loss: 0.5691 - val_accuracy: 0.7059\n",
            "Epoch 16/100\n",
            "684/684 [==============================] - 2s 2ms/step - loss: 0.5773 - accuracy: 0.7059 - val_loss: 0.5694 - val_accuracy: 0.7113\n",
            "Epoch 17/100\n",
            "684/684 [==============================] - 1s 2ms/step - loss: 0.5772 - accuracy: 0.7051 - val_loss: 0.5690 - val_accuracy: 0.7108\n",
            "Epoch 18/100\n",
            "684/684 [==============================] - 1s 2ms/step - loss: 0.5769 - accuracy: 0.7062 - val_loss: 0.5681 - val_accuracy: 0.7121\n",
            "Epoch 19/100\n",
            "684/684 [==============================] - 2s 2ms/step - loss: 0.5764 - accuracy: 0.7053 - val_loss: 0.5678 - val_accuracy: 0.7098\n",
            "Epoch 20/100\n",
            "684/684 [==============================] - 2s 3ms/step - loss: 0.5762 - accuracy: 0.7072 - val_loss: 0.5689 - val_accuracy: 0.7111\n",
            "Epoch 21/100\n",
            "684/684 [==============================] - 1s 2ms/step - loss: 0.5756 - accuracy: 0.7081 - val_loss: 0.5675 - val_accuracy: 0.7116\n",
            "Epoch 22/100\n",
            "684/684 [==============================] - 1s 2ms/step - loss: 0.5759 - accuracy: 0.7060 - val_loss: 0.5681 - val_accuracy: 0.7116\n",
            "Epoch 23/100\n",
            "684/684 [==============================] - 1s 2ms/step - loss: 0.5751 - accuracy: 0.7080 - val_loss: 0.5686 - val_accuracy: 0.7100\n",
            "Epoch 24/100\n",
            "684/684 [==============================] - 1s 2ms/step - loss: 0.5754 - accuracy: 0.7067 - val_loss: 0.5683 - val_accuracy: 0.7108\n",
            "Epoch 25/100\n",
            "684/684 [==============================] - 1s 2ms/step - loss: 0.5754 - accuracy: 0.7062 - val_loss: 0.5691 - val_accuracy: 0.7093\n",
            "Epoch 26/100\n",
            "684/684 [==============================] - 2s 2ms/step - loss: 0.5752 - accuracy: 0.7080 - val_loss: 0.5679 - val_accuracy: 0.7111\n",
            "Epoch 27/100\n",
            "684/684 [==============================] - 1s 2ms/step - loss: 0.5750 - accuracy: 0.7086 - val_loss: 0.5673 - val_accuracy: 0.7124\n",
            "Epoch 28/100\n",
            "684/684 [==============================] - 2s 3ms/step - loss: 0.5747 - accuracy: 0.7066 - val_loss: 0.5712 - val_accuracy: 0.7074\n",
            "Epoch 29/100\n",
            "684/684 [==============================] - 2s 2ms/step - loss: 0.5748 - accuracy: 0.7084 - val_loss: 0.5674 - val_accuracy: 0.7103\n",
            "Epoch 30/100\n",
            "684/684 [==============================] - 1s 2ms/step - loss: 0.5750 - accuracy: 0.7062 - val_loss: 0.5687 - val_accuracy: 0.7131\n",
            "Epoch 31/100\n",
            "684/684 [==============================] - 1s 2ms/step - loss: 0.5748 - accuracy: 0.7082 - val_loss: 0.5680 - val_accuracy: 0.7105\n",
            "Epoch 32/100\n",
            "684/684 [==============================] - 1s 2ms/step - loss: 0.5743 - accuracy: 0.7087 - val_loss: 0.5689 - val_accuracy: 0.7139\n",
            "Epoch 33/100\n",
            "684/684 [==============================] - 1s 2ms/step - loss: 0.5745 - accuracy: 0.7078 - val_loss: 0.5687 - val_accuracy: 0.7137\n",
            "Epoch 34/100\n",
            "684/684 [==============================] - 1s 2ms/step - loss: 0.5741 - accuracy: 0.7072 - val_loss: 0.5677 - val_accuracy: 0.7147\n",
            "Epoch 35/100\n",
            "684/684 [==============================] - 2s 2ms/step - loss: 0.5742 - accuracy: 0.7079 - val_loss: 0.5668 - val_accuracy: 0.7129\n",
            "Epoch 36/100\n",
            "684/684 [==============================] - 2s 3ms/step - loss: 0.5742 - accuracy: 0.7090 - val_loss: 0.5668 - val_accuracy: 0.7124\n",
            "Epoch 37/100\n",
            "684/684 [==============================] - 2s 3ms/step - loss: 0.5739 - accuracy: 0.7085 - val_loss: 0.5666 - val_accuracy: 0.7137\n",
            "Epoch 38/100\n",
            "684/684 [==============================] - 1s 2ms/step - loss: 0.5738 - accuracy: 0.7104 - val_loss: 0.5673 - val_accuracy: 0.7129\n",
            "Epoch 39/100\n",
            "684/684 [==============================] - 1s 2ms/step - loss: 0.5737 - accuracy: 0.7092 - val_loss: 0.5681 - val_accuracy: 0.7126\n",
            "Epoch 40/100\n",
            "684/684 [==============================] - 1s 2ms/step - loss: 0.5736 - accuracy: 0.7093 - val_loss: 0.5681 - val_accuracy: 0.7134\n",
            "Epoch 41/100\n",
            "684/684 [==============================] - 2s 2ms/step - loss: 0.5738 - accuracy: 0.7072 - val_loss: 0.5673 - val_accuracy: 0.7134\n",
            "Epoch 42/100\n",
            "684/684 [==============================] - 2s 2ms/step - loss: 0.5737 - accuracy: 0.7082 - val_loss: 0.5668 - val_accuracy: 0.7095\n",
            "Epoch 43/100\n",
            "684/684 [==============================] - 1s 2ms/step - loss: 0.5736 - accuracy: 0.7091 - val_loss: 0.5699 - val_accuracy: 0.7069\n",
            "Epoch 44/100\n",
            "684/684 [==============================] - 2s 3ms/step - loss: 0.5729 - accuracy: 0.7088 - val_loss: 0.5677 - val_accuracy: 0.7129\n",
            "Epoch 45/100\n",
            "684/684 [==============================] - 2s 3ms/step - loss: 0.5732 - accuracy: 0.7096 - val_loss: 0.5671 - val_accuracy: 0.7118\n",
            "Epoch 46/100\n",
            "684/684 [==============================] - 2s 2ms/step - loss: 0.5730 - accuracy: 0.7098 - val_loss: 0.5674 - val_accuracy: 0.7077\n",
            "Epoch 47/100\n",
            "684/684 [==============================] - 1s 2ms/step - loss: 0.5730 - accuracy: 0.7102 - val_loss: 0.5656 - val_accuracy: 0.7165\n",
            "Epoch 48/100\n",
            "684/684 [==============================] - 2s 2ms/step - loss: 0.5733 - accuracy: 0.7088 - val_loss: 0.5678 - val_accuracy: 0.7080\n",
            "Epoch 49/100\n",
            "684/684 [==============================] - 1s 2ms/step - loss: 0.5729 - accuracy: 0.7096 - val_loss: 0.5666 - val_accuracy: 0.7131\n",
            "Epoch 50/100\n",
            "684/684 [==============================] - 1s 2ms/step - loss: 0.5727 - accuracy: 0.7093 - val_loss: 0.5673 - val_accuracy: 0.7074\n",
            "Epoch 51/100\n",
            "684/684 [==============================] - 1s 2ms/step - loss: 0.5725 - accuracy: 0.7088 - val_loss: 0.5673 - val_accuracy: 0.7144\n",
            "Epoch 52/100\n",
            "684/684 [==============================] - 2s 2ms/step - loss: 0.5724 - accuracy: 0.7090 - val_loss: 0.5660 - val_accuracy: 0.7124\n",
            "Epoch 53/100\n",
            "684/684 [==============================] - 2s 3ms/step - loss: 0.5725 - accuracy: 0.7102 - val_loss: 0.5664 - val_accuracy: 0.7137\n",
            "Epoch 54/100\n",
            "684/684 [==============================] - 1s 2ms/step - loss: 0.5722 - accuracy: 0.7109 - val_loss: 0.5667 - val_accuracy: 0.7090\n",
            "Epoch 55/100\n",
            "684/684 [==============================] - 2s 3ms/step - loss: 0.5728 - accuracy: 0.7097 - val_loss: 0.5700 - val_accuracy: 0.7085\n",
            "Epoch 56/100\n",
            "684/684 [==============================] - 2s 3ms/step - loss: 0.5724 - accuracy: 0.7107 - val_loss: 0.5673 - val_accuracy: 0.7121\n",
            "Epoch 57/100\n",
            "684/684 [==============================] - 2s 2ms/step - loss: 0.5722 - accuracy: 0.7084 - val_loss: 0.5663 - val_accuracy: 0.7144\n",
            "Epoch 58/100\n",
            "684/684 [==============================] - 2s 2ms/step - loss: 0.5720 - accuracy: 0.7105 - val_loss: 0.5693 - val_accuracy: 0.7134\n",
            "Epoch 59/100\n",
            "684/684 [==============================] - 2s 2ms/step - loss: 0.5723 - accuracy: 0.7095 - val_loss: 0.5674 - val_accuracy: 0.7134\n",
            "Epoch 60/100\n",
            "684/684 [==============================] - 2s 3ms/step - loss: 0.5721 - accuracy: 0.7118 - val_loss: 0.5675 - val_accuracy: 0.7113\n",
            "Epoch 61/100\n",
            "684/684 [==============================] - 2s 3ms/step - loss: 0.5720 - accuracy: 0.7097 - val_loss: 0.5678 - val_accuracy: 0.7129\n",
            "Epoch 62/100\n",
            "684/684 [==============================] - 1s 2ms/step - loss: 0.5721 - accuracy: 0.7098 - val_loss: 0.5674 - val_accuracy: 0.7118\n",
            "Epoch 63/100\n",
            "684/684 [==============================] - 1s 2ms/step - loss: 0.5720 - accuracy: 0.7098 - val_loss: 0.5679 - val_accuracy: 0.7134\n",
            "Epoch 64/100\n",
            "684/684 [==============================] - 1s 2ms/step - loss: 0.5718 - accuracy: 0.7089 - val_loss: 0.5668 - val_accuracy: 0.7139\n",
            "Epoch 65/100\n",
            "684/684 [==============================] - 2s 2ms/step - loss: 0.5718 - accuracy: 0.7108 - val_loss: 0.5668 - val_accuracy: 0.7134\n",
            "Epoch 66/100\n",
            "684/684 [==============================] - 1s 2ms/step - loss: 0.5718 - accuracy: 0.7106 - val_loss: 0.5672 - val_accuracy: 0.7139\n",
            "Epoch 67/100\n",
            "684/684 [==============================] - 1s 2ms/step - loss: 0.5718 - accuracy: 0.7125 - val_loss: 0.5664 - val_accuracy: 0.7129\n",
            "Epoch 68/100\n",
            "684/684 [==============================] - 2s 3ms/step - loss: 0.5719 - accuracy: 0.7104 - val_loss: 0.5665 - val_accuracy: 0.7144\n",
            "Epoch 69/100\n",
            "684/684 [==============================] - 2s 2ms/step - loss: 0.5714 - accuracy: 0.7106 - val_loss: 0.5675 - val_accuracy: 0.7139\n",
            "Epoch 70/100\n",
            "684/684 [==============================] - 1s 2ms/step - loss: 0.5718 - accuracy: 0.7111 - val_loss: 0.5682 - val_accuracy: 0.7093\n",
            "Epoch 71/100\n",
            "684/684 [==============================] - 1s 2ms/step - loss: 0.5712 - accuracy: 0.7106 - val_loss: 0.5686 - val_accuracy: 0.7093\n",
            "Epoch 72/100\n",
            "684/684 [==============================] - 2s 2ms/step - loss: 0.5714 - accuracy: 0.7109 - val_loss: 0.5669 - val_accuracy: 0.7093\n",
            "Epoch 73/100\n",
            "684/684 [==============================] - 1s 2ms/step - loss: 0.5716 - accuracy: 0.7104 - val_loss: 0.5675 - val_accuracy: 0.7082\n",
            "Epoch 74/100\n",
            "684/684 [==============================] - 2s 2ms/step - loss: 0.5712 - accuracy: 0.7113 - val_loss: 0.5663 - val_accuracy: 0.7142\n",
            "Epoch 75/100\n",
            "684/684 [==============================] - 1s 2ms/step - loss: 0.5712 - accuracy: 0.7093 - val_loss: 0.5674 - val_accuracy: 0.7131\n",
            "Epoch 76/100\n",
            "684/684 [==============================] - 2s 3ms/step - loss: 0.5714 - accuracy: 0.7105 - val_loss: 0.5674 - val_accuracy: 0.7116\n",
            "Epoch 77/100\n",
            "684/684 [==============================] - 2s 3ms/step - loss: 0.5711 - accuracy: 0.7108 - val_loss: 0.5666 - val_accuracy: 0.7142\n",
            "Epoch 78/100\n",
            "684/684 [==============================] - 2s 2ms/step - loss: 0.5713 - accuracy: 0.7093 - val_loss: 0.5671 - val_accuracy: 0.7147\n",
            "Epoch 79/100\n",
            "684/684 [==============================] - 1s 2ms/step - loss: 0.5708 - accuracy: 0.7123 - val_loss: 0.5667 - val_accuracy: 0.7118\n",
            "Epoch 80/100\n",
            "684/684 [==============================] - 2s 2ms/step - loss: 0.5709 - accuracy: 0.7115 - val_loss: 0.5654 - val_accuracy: 0.7121\n",
            "Epoch 81/100\n",
            "684/684 [==============================] - 1s 2ms/step - loss: 0.5707 - accuracy: 0.7106 - val_loss: 0.5676 - val_accuracy: 0.7113\n",
            "Epoch 82/100\n",
            "684/684 [==============================] - 2s 2ms/step - loss: 0.5710 - accuracy: 0.7098 - val_loss: 0.5704 - val_accuracy: 0.7144\n",
            "Epoch 83/100\n",
            "684/684 [==============================] - 1s 2ms/step - loss: 0.5712 - accuracy: 0.7098 - val_loss: 0.5671 - val_accuracy: 0.7080\n",
            "Epoch 84/100\n",
            "684/684 [==============================] - 2s 3ms/step - loss: 0.5714 - accuracy: 0.7116 - val_loss: 0.5662 - val_accuracy: 0.7144\n",
            "Epoch 85/100\n",
            "684/684 [==============================] - 2s 3ms/step - loss: 0.5710 - accuracy: 0.7110 - val_loss: 0.5668 - val_accuracy: 0.7080\n",
            "Epoch 86/100\n",
            "684/684 [==============================] - 1s 2ms/step - loss: 0.5707 - accuracy: 0.7121 - val_loss: 0.5729 - val_accuracy: 0.7074\n",
            "Epoch 87/100\n",
            "684/684 [==============================] - 1s 2ms/step - loss: 0.5710 - accuracy: 0.7116 - val_loss: 0.5674 - val_accuracy: 0.7072\n",
            "Epoch 88/100\n",
            "684/684 [==============================] - 2s 2ms/step - loss: 0.5711 - accuracy: 0.7107 - val_loss: 0.5674 - val_accuracy: 0.7082\n",
            "Epoch 89/100\n",
            "684/684 [==============================] - 2s 3ms/step - loss: 0.5707 - accuracy: 0.7108 - val_loss: 0.5657 - val_accuracy: 0.7126\n",
            "Epoch 90/100\n",
            "684/684 [==============================] - 1s 2ms/step - loss: 0.5706 - accuracy: 0.7109 - val_loss: 0.5687 - val_accuracy: 0.7077\n",
            "Epoch 91/100\n",
            "684/684 [==============================] - 2s 3ms/step - loss: 0.5706 - accuracy: 0.7097 - val_loss: 0.5667 - val_accuracy: 0.7144\n",
            "Epoch 92/100\n",
            "684/684 [==============================] - 2s 3ms/step - loss: 0.5706 - accuracy: 0.7095 - val_loss: 0.5670 - val_accuracy: 0.7118\n",
            "Epoch 93/100\n",
            "684/684 [==============================] - 2s 3ms/step - loss: 0.5705 - accuracy: 0.7107 - val_loss: 0.5658 - val_accuracy: 0.7129\n",
            "Epoch 94/100\n",
            "684/684 [==============================] - 1s 2ms/step - loss: 0.5705 - accuracy: 0.7105 - val_loss: 0.5674 - val_accuracy: 0.7080\n",
            "Epoch 95/100\n",
            "684/684 [==============================] - 2s 2ms/step - loss: 0.5706 - accuracy: 0.7121 - val_loss: 0.5686 - val_accuracy: 0.7118\n",
            "Epoch 96/100\n",
            "684/684 [==============================] - 2s 3ms/step - loss: 0.5706 - accuracy: 0.7115 - val_loss: 0.5659 - val_accuracy: 0.7160\n",
            "Epoch 97/100\n",
            "684/684 [==============================] - 2s 2ms/step - loss: 0.5705 - accuracy: 0.7094 - val_loss: 0.5665 - val_accuracy: 0.7093\n",
            "Epoch 98/100\n",
            "684/684 [==============================] - 2s 2ms/step - loss: 0.5704 - accuracy: 0.7125 - val_loss: 0.5673 - val_accuracy: 0.7134\n",
            "Epoch 99/100\n",
            "684/684 [==============================] - 2s 3ms/step - loss: 0.5704 - accuracy: 0.7102 - val_loss: 0.5674 - val_accuracy: 0.7098\n",
            "Epoch 100/100\n",
            "684/684 [==============================] - 2s 3ms/step - loss: 0.5705 - accuracy: 0.7108 - val_loss: 0.5667 - val_accuracy: 0.7165\n"
          ]
        }
      ],
      "source": [
        "# Train the model\n",
        "fit_model = nn.fit(X_train_scaled,y_train,validation_split=0.15, epochs=100)"
      ]
    },
    {
      "cell_type": "code",
      "execution_count": null,
      "metadata": {
        "id": "MJDrcZUpQWfJ",
        "outputId": "1e51fef2-5c44-4944-eab8-2b67738ad029",
        "colab": {
          "base_uri": "https://localhost:8080/"
        }
      },
      "outputs": [
        {
          "output_type": "stream",
          "name": "stdout",
          "text": [
            "268/268 - 0s - loss: 0.5761 - accuracy: 0.7067 - 396ms/epoch - 1ms/step\n",
            "Loss: 0.5760769248008728, Accuracy: 0.7067055106163025\n"
          ]
        }
      ],
      "source": [
        "# Evaluate the model using the test data\n",
        "model_loss, model_accuracy = nn.evaluate(X_test_scaled,y_test,verbose=2)\n",
        "print(f\"Loss: {model_loss}, Accuracy: {model_accuracy}\")"
      ]
    },
    {
      "cell_type": "code",
      "execution_count": null,
      "metadata": {
        "id": "mPHcEkigQWfJ",
        "colab": {
          "base_uri": "https://localhost:8080/",
          "height": 17
        },
        "outputId": "89904164-43c1-4498-ee51-34f1a521e8f2"
      },
      "outputs": [
        {
          "output_type": "display_data",
          "data": {
            "text/plain": [
              "<IPython.core.display.Javascript object>"
            ],
            "application/javascript": [
              "\n",
              "    async function download(id, filename, size) {\n",
              "      if (!google.colab.kernel.accessAllowed) {\n",
              "        return;\n",
              "      }\n",
              "      const div = document.createElement('div');\n",
              "      const label = document.createElement('label');\n",
              "      label.textContent = `Downloading \"${filename}\": `;\n",
              "      div.appendChild(label);\n",
              "      const progress = document.createElement('progress');\n",
              "      progress.max = size;\n",
              "      div.appendChild(progress);\n",
              "      document.body.appendChild(div);\n",
              "\n",
              "      const buffers = [];\n",
              "      let downloaded = 0;\n",
              "\n",
              "      const channel = await google.colab.kernel.comms.open(id);\n",
              "      // Send a message to notify the kernel that we're ready.\n",
              "      channel.send({})\n",
              "\n",
              "      for await (const message of channel.messages) {\n",
              "        // Send a message to notify the kernel that we're ready.\n",
              "        channel.send({})\n",
              "        if (message.buffers) {\n",
              "          for (const buffer of message.buffers) {\n",
              "            buffers.push(buffer);\n",
              "            downloaded += buffer.byteLength;\n",
              "            progress.value = downloaded;\n",
              "          }\n",
              "        }\n",
              "      }\n",
              "      const blob = new Blob(buffers, {type: 'application/binary'});\n",
              "      const a = document.createElement('a');\n",
              "      a.href = window.URL.createObjectURL(blob);\n",
              "      a.download = filename;\n",
              "      div.appendChild(a);\n",
              "      a.click();\n",
              "      div.remove();\n",
              "    }\n",
              "  "
            ]
          },
          "metadata": {}
        },
        {
          "output_type": "display_data",
          "data": {
            "text/plain": [
              "<IPython.core.display.Javascript object>"
            ],
            "application/javascript": [
              "download(\"download_a5f9752c-1fa5-4219-ae12-84351fc225ba\", \"AlphabetSoupCharity.h5\", 36448)"
            ]
          },
          "metadata": {}
        }
      ],
      "source": [
        "# Export our model to HDF5 file\n",
        "from google.colab import files\n",
        "\n",
        "nn.save('AlphabetSoupCharity.h5')\n",
        "files.download('AlphabetSoupCharity.h5')"
      ]
    }
  ],
  "metadata": {
    "kernelspec": {
      "display_name": "Python 3.9.12 ('base')",
      "language": "python",
      "name": "python3"
    },
    "language_info": {
      "codemirror_mode": {
        "name": "ipython",
        "version": 3
      },
      "file_extension": ".py",
      "mimetype": "text/x-python",
      "name": "python",
      "nbconvert_exporter": "python",
      "pygments_lexer": "ipython3",
      "version": "3.9.12"
    },
    "vscode": {
      "interpreter": {
        "hash": "38ca0824dbf1e019e6218b090eec0cdfba284016308727e4c9d187d2fdbe4a3a"
      }
    },
    "colab": {
      "provenance": [],
      "include_colab_link": true
    }
  },
  "nbformat": 4,
  "nbformat_minor": 0
}